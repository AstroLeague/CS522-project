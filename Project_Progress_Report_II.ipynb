{
  "cells": [
    {
      "cell_type": "code",
      "execution_count": null,
      "metadata": {},
      "outputs": [],
      "source": [
        "!pip3 install nltk\n",
        "!pip3 install transformers[sentencepiece]\n",
        "!pip3 install datasets"
      ]
    },
    {
      "cell_type": "code",
      "execution_count": 1,
      "metadata": {
        "id": "ODxZ0bE0B4i5"
      },
      "outputs": [],
      "source": [
        "import pandas as pd\n",
        "from sklearn.model_selection import train_test_split, GridSearchCV\n",
        "import re\n",
        "import nltk\n",
        "from nltk.corpus import stopwords\n",
        "from nltk.tokenize import word_tokenize\n",
        "from sklearn.linear_model import LogisticRegression as LOGIT\n",
        "from sklearn.feature_extraction.text import TfidfVectorizer, CountVectorizer, HashingVectorizer\n",
        "from sklearn.svm import LinearSVC, SVC\n",
        "from sklearn import metrics\n",
        "from sklearn.metrics import f1_score, precision_score, recall_score, accuracy_score\n",
        "import matplotlib.pyplot as plt\n",
        "import numpy as np\n",
        "import string"
      ]
    },
    {
      "cell_type": "code",
      "execution_count": 2,
      "metadata": {},
      "outputs": [
        {
          "name": "stderr",
          "output_type": "stream",
          "text": [
            "[nltk_data] Downloading package stopwords to /home/surya/nltk_data...\n",
            "[nltk_data]   Package stopwords is already up-to-date!\n",
            "[nltk_data] Downloading package punkt to /home/surya/nltk_data...\n",
            "[nltk_data]   Package punkt is already up-to-date!\n",
            "[nltk_data] Downloading package wordnet to /home/surya/nltk_data...\n",
            "[nltk_data]   Package wordnet is already up-to-date!\n"
          ]
        },
        {
          "data": {
            "text/plain": [
              "True"
            ]
          },
          "execution_count": 2,
          "metadata": {},
          "output_type": "execute_result"
        }
      ],
      "source": [
        "nltk.download('stopwords')\n",
        "nltk.download('punkt')\n",
        "nltk.download('wordnet')"
      ]
    },
    {
      "cell_type": "markdown",
      "metadata": {
        "id": "Qw_NDCndiw0-"
      },
      "source": [
        "# 1.1 Train/validation/test datasets\n",
        "\n",
        "Requirements:\n",
        "\n",
        "1.1.1 This dataset set has different categories, see the paper provided in the dataset\n",
        "info on BB for details. Discuss the categories distribution in the original dataset\n",
        "and in the subsets that you selected for train/validation/test.\n",
        "\n",
        "1.1.2 Discuss in the number of the positive and negative examples in your\n",
        "train/validation/test data. Make sure that your sets are balances, in other words\n",
        "use the same number of positive and negative examples in your\n",
        "train/validation/test data.\n",
        "\n",
        "1.1.3 Make sure you have the classifier scores for your test data, not only the final\n",
        "class labels. The classifier scores will be used for measuring bias."
      ]
    },
    {
      "cell_type": "code",
      "execution_count": 3,
      "metadata": {
        "colab": {
          "base_uri": "https://localhost:8080/"
        },
        "id": "XmavvbZ-DQE_",
        "outputId": "d0eb1df8-569e-41d6-d70a-12940aa6a1c7"
      },
      "outputs": [
        {
          "data": {
            "text/html": [
              "<div>\n",
              "<style scoped>\n",
              "    .dataframe tbody tr th:only-of-type {\n",
              "        vertical-align: middle;\n",
              "    }\n",
              "\n",
              "    .dataframe tbody tr th {\n",
              "        vertical-align: top;\n",
              "    }\n",
              "\n",
              "    .dataframe thead th {\n",
              "        text-align: right;\n",
              "    }\n",
              "</style>\n",
              "<table border=\"1\" class=\"dataframe\">\n",
              "  <thead>\n",
              "    <tr style=\"text-align: right;\">\n",
              "      <th></th>\n",
              "      <th>target</th>\n",
              "      <th>ids</th>\n",
              "      <th>date</th>\n",
              "      <th>flag</th>\n",
              "      <th>user</th>\n",
              "      <th>text</th>\n",
              "    </tr>\n",
              "  </thead>\n",
              "  <tbody>\n",
              "    <tr>\n",
              "      <th>0</th>\n",
              "      <td>0</td>\n",
              "      <td>1467810369</td>\n",
              "      <td>Mon Apr 06 22:19:45 PDT 2009</td>\n",
              "      <td>NO_QUERY</td>\n",
              "      <td>_TheSpecialOne_</td>\n",
              "      <td>@switchfoot http://twitpic.com/2y1zl - Awww, t...</td>\n",
              "    </tr>\n",
              "    <tr>\n",
              "      <th>1</th>\n",
              "      <td>0</td>\n",
              "      <td>1467810672</td>\n",
              "      <td>Mon Apr 06 22:19:49 PDT 2009</td>\n",
              "      <td>NO_QUERY</td>\n",
              "      <td>scotthamilton</td>\n",
              "      <td>is upset that he can't update his Facebook by ...</td>\n",
              "    </tr>\n",
              "    <tr>\n",
              "      <th>2</th>\n",
              "      <td>0</td>\n",
              "      <td>1467810917</td>\n",
              "      <td>Mon Apr 06 22:19:53 PDT 2009</td>\n",
              "      <td>NO_QUERY</td>\n",
              "      <td>mattycus</td>\n",
              "      <td>@Kenichan I dived many times for the ball. Man...</td>\n",
              "    </tr>\n",
              "    <tr>\n",
              "      <th>3</th>\n",
              "      <td>0</td>\n",
              "      <td>1467811184</td>\n",
              "      <td>Mon Apr 06 22:19:57 PDT 2009</td>\n",
              "      <td>NO_QUERY</td>\n",
              "      <td>ElleCTF</td>\n",
              "      <td>my whole body feels itchy and like its on fire</td>\n",
              "    </tr>\n",
              "    <tr>\n",
              "      <th>4</th>\n",
              "      <td>0</td>\n",
              "      <td>1467811193</td>\n",
              "      <td>Mon Apr 06 22:19:57 PDT 2009</td>\n",
              "      <td>NO_QUERY</td>\n",
              "      <td>Karoli</td>\n",
              "      <td>@nationwideclass no, it's not behaving at all....</td>\n",
              "    </tr>\n",
              "  </tbody>\n",
              "</table>\n",
              "</div>"
            ],
            "text/plain": [
              "   target         ids                          date      flag  \\\n",
              "0       0  1467810369  Mon Apr 06 22:19:45 PDT 2009  NO_QUERY   \n",
              "1       0  1467810672  Mon Apr 06 22:19:49 PDT 2009  NO_QUERY   \n",
              "2       0  1467810917  Mon Apr 06 22:19:53 PDT 2009  NO_QUERY   \n",
              "3       0  1467811184  Mon Apr 06 22:19:57 PDT 2009  NO_QUERY   \n",
              "4       0  1467811193  Mon Apr 06 22:19:57 PDT 2009  NO_QUERY   \n",
              "\n",
              "              user                                               text  \n",
              "0  _TheSpecialOne_  @switchfoot http://twitpic.com/2y1zl - Awww, t...  \n",
              "1    scotthamilton  is upset that he can't update his Facebook by ...  \n",
              "2         mattycus  @Kenichan I dived many times for the ball. Man...  \n",
              "3          ElleCTF    my whole body feels itchy and like its on fire   \n",
              "4           Karoli  @nationwideclass no, it's not behaving at all....  "
            ]
          },
          "execution_count": 3,
          "metadata": {},
          "output_type": "execute_result"
        }
      ],
      "source": [
        "#matiss\n",
        "#omer: updated from filepath to url pointing to csv file. No longer required to upload csv file each session.\n",
        "col_names = [\"target\", \"ids\", \"date\", \"flag\", \"user\", \"text\"]\n",
        "df = pd.read_csv('https://drive.google.com/u/0/uc?id=1m88wjMcAozlS1gMXASZJGAJ_IoKOuFpw&export=download&confirm=t&uuid=2aa552b5-fbc2-4136-b3bf-84a8ef8c84c2&at=ANzk5s44dDuWzxuw6xKSomX-irH_:1681370623301',\n",
        "                 encoding='latin-1',\n",
        "                 names = col_names)\n",
        "df.head()"
      ]
    },
    {
      "cell_type": "markdown",
      "metadata": {
        "id": "vkPvp9adE7US"
      },
      "source": [
        "Checking the counts. We expect 800k observations for both negative and positive."
      ]
    },
    {
      "cell_type": "code",
      "execution_count": 4,
      "metadata": {},
      "outputs": [
        {
          "data": {
            "text/html": [
              "<div>\n",
              "<style scoped>\n",
              "    .dataframe tbody tr th:only-of-type {\n",
              "        vertical-align: middle;\n",
              "    }\n",
              "\n",
              "    .dataframe tbody tr th {\n",
              "        vertical-align: top;\n",
              "    }\n",
              "\n",
              "    .dataframe thead th {\n",
              "        text-align: right;\n",
              "    }\n",
              "</style>\n",
              "<table border=\"1\" class=\"dataframe\">\n",
              "  <thead>\n",
              "    <tr style=\"text-align: right;\">\n",
              "      <th></th>\n",
              "      <th>target</th>\n",
              "      <th>ids</th>\n",
              "    </tr>\n",
              "  </thead>\n",
              "  <tbody>\n",
              "    <tr>\n",
              "      <th>count</th>\n",
              "      <td>1.600000e+06</td>\n",
              "      <td>1.600000e+06</td>\n",
              "    </tr>\n",
              "    <tr>\n",
              "      <th>mean</th>\n",
              "      <td>2.000000e+00</td>\n",
              "      <td>1.998818e+09</td>\n",
              "    </tr>\n",
              "    <tr>\n",
              "      <th>std</th>\n",
              "      <td>2.000001e+00</td>\n",
              "      <td>1.935761e+08</td>\n",
              "    </tr>\n",
              "    <tr>\n",
              "      <th>min</th>\n",
              "      <td>0.000000e+00</td>\n",
              "      <td>1.467810e+09</td>\n",
              "    </tr>\n",
              "    <tr>\n",
              "      <th>25%</th>\n",
              "      <td>0.000000e+00</td>\n",
              "      <td>1.956916e+09</td>\n",
              "    </tr>\n",
              "    <tr>\n",
              "      <th>50%</th>\n",
              "      <td>2.000000e+00</td>\n",
              "      <td>2.002102e+09</td>\n",
              "    </tr>\n",
              "    <tr>\n",
              "      <th>75%</th>\n",
              "      <td>4.000000e+00</td>\n",
              "      <td>2.177059e+09</td>\n",
              "    </tr>\n",
              "    <tr>\n",
              "      <th>max</th>\n",
              "      <td>4.000000e+00</td>\n",
              "      <td>2.329206e+09</td>\n",
              "    </tr>\n",
              "  </tbody>\n",
              "</table>\n",
              "</div>"
            ],
            "text/plain": [
              "             target           ids\n",
              "count  1.600000e+06  1.600000e+06\n",
              "mean   2.000000e+00  1.998818e+09\n",
              "std    2.000001e+00  1.935761e+08\n",
              "min    0.000000e+00  1.467810e+09\n",
              "25%    0.000000e+00  1.956916e+09\n",
              "50%    2.000000e+00  2.002102e+09\n",
              "75%    4.000000e+00  2.177059e+09\n",
              "max    4.000000e+00  2.329206e+09"
            ]
          },
          "execution_count": 4,
          "metadata": {},
          "output_type": "execute_result"
        }
      ],
      "source": [
        "df.describe()"
      ]
    },
    {
      "cell_type": "code",
      "execution_count": 5,
      "metadata": {
        "colab": {
          "base_uri": "https://localhost:8080/"
        },
        "id": "Z1djWBnSEamr",
        "outputId": "d4a7e146-f9fe-45ed-e659-53146321e5bf"
      },
      "outputs": [
        {
          "name": "stdout",
          "output_type": "stream",
          "text": [
            "There are  800000  negative observations\n",
            "There are  800000  positive observations\n"
          ]
        }
      ],
      "source": [
        "#matiss\n",
        "print(\"There are \", df['target'].value_counts()[0], \" negative observations\")\n",
        "print(\"There are \", df['target'].value_counts()[4], \" positive observations\")"
      ]
    },
    {
      "cell_type": "code",
      "execution_count": 6,
      "metadata": {
        "colab": {
          "base_uri": "https://localhost:8080/"
        },
        "id": "ffnhpzawY1Js",
        "outputId": "522a4ac2-485a-4565-a887-e6fb031acfb0"
      },
      "outputs": [
        {
          "data": {
            "text/plain": [
              "target     int64\n",
              "ids        int64\n",
              "date      object\n",
              "flag      object\n",
              "user      object\n",
              "text      object\n",
              "dtype: object"
            ]
          },
          "execution_count": 6,
          "metadata": {},
          "output_type": "execute_result"
        }
      ],
      "source": [
        "#matiss\n",
        "df['text'] = df['text'].astype(str)\n",
        "df.dtypes"
      ]
    },
    {
      "cell_type": "code",
      "execution_count": 7,
      "metadata": {},
      "outputs": [
        {
          "data": {
            "text/plain": [
              "1600000"
            ]
          },
          "execution_count": 7,
          "metadata": {},
          "output_type": "execute_result"
        }
      ],
      "source": [
        "df.ids.count()"
      ]
    },
    {
      "attachments": {},
      "cell_type": "markdown",
      "metadata": {},
      "source": [
        "We will decide if other columns provides good information, this will help us reduce the size of the dataset."
      ]
    },
    {
      "cell_type": "code",
      "execution_count": 8,
      "metadata": {},
      "outputs": [
        {
          "data": {
            "text/plain": [
              "array(['NO_QUERY'], dtype=object)"
            ]
          },
          "execution_count": 8,
          "metadata": {},
          "output_type": "execute_result"
        }
      ],
      "source": [
        "df.flag.unique()"
      ]
    },
    {
      "cell_type": "code",
      "execution_count": 9,
      "metadata": {},
      "outputs": [
        {
          "data": {
            "text/plain": [
              "array([0, 4])"
            ]
          },
          "execution_count": 9,
          "metadata": {},
          "output_type": "execute_result"
        }
      ],
      "source": [
        "df.target.unique()"
      ]
    },
    {
      "attachments": {},
      "cell_type": "markdown",
      "metadata": {
        "id": "VmN_BrrdUUA-"
      },
      "source": [
        "## Removing noisy tweets"
      ]
    },
    {
      "cell_type": "markdown",
      "metadata": {
        "id": "uhctJgVecrw6"
      },
      "source": [
        "We can first use regular expressions to find cases matching mentions with @, hashtags with #, and URLs assuming they are in the format https:// or http://.\n",
        "\n",
        "We can define a regex pattern as follows:\n",
        "@\\w*\\b|#\\w*\\b|https?:\\/\\/\\\\S*\n",
        "This means we find any @ or # followed by 0 or more alphanumeric characters ie [a-zA-Z0-9_] or nothing and then a word boundary, or a link beginning with either http or https followed by :// and then zero or more nonwhite space characters"
      ]
    },
    {
      "cell_type": "markdown",
      "metadata": {
        "id": "4VgvmcoDl0Fb"
      },
      "source": [
        "Testing and developing the regular expression below on test data"
      ]
    },
    {
      "cell_type": "code",
      "execution_count": 10,
      "metadata": {
        "colab": {
          "base_uri": "https://localhost:8080/"
        },
        "id": "ovlgM1-IUTYO",
        "outputId": "21f8b22e-72e7-4970-bbb8-d66db26283e9"
      },
      "outputs": [
        {
          "name": "stdout",
          "output_type": "stream",
          "text": [
            "\n",
            "Before applying regular expression\n",
            "2 rows containing \"@\", \"#\", or \"http(s)\".\n",
            "                                                text\n",
            "0  @POTUS, @ ! @! me I can't believe http://websi...\n",
            "1                         don't # have a #clue .#ok,\n",
            "\n",
            "After applying regular expression\n",
            "                              text\n",
            "0  ,  ! ! me I can't believe  and \n",
            "1                don't  have a  .,\n",
            "812084 rows containing \"@\", \"#\", or \"http(s)\".\n"
          ]
        }
      ],
      "source": [
        "#matiss\n",
        "#reg_pattern = r'@\\w*\\b|#\\w*\\b|https?:\\/\\/\\\\w*'\n",
        "reg_pattern = r'@\\w+\\b|#\\w+\\b|https?:\\/\\/\\S+|@|#'\n",
        "\n",
        "## testing pattern\n",
        "print(\"\\nBefore applying regular expression\")\n",
        "test_df = pd.DataFrame({'text':[\"@POTUS, @ ! @! me I can't believe http://website and https://website.\", \"don't # have a #clue .#ok,\"]})\n",
        "print(test_df['text'].str.contains(reg_pattern).sum(), 'rows containing \"@\", \"#\", or \"http(s)\".')\n",
        "print(test_df)\n",
        "\n",
        "print(\"\\nAfter applying regular expression\")\n",
        "test_df['text'] = test_df['text'].str.replace(reg_pattern, '', regex=True)\n",
        "print(test_df)\n",
        "print(df['text'].str.contains(reg_pattern).sum(), 'rows containing \"@\", \"#\", or \"http(s)\".')"
      ]
    },
    {
      "cell_type": "markdown",
      "metadata": {
        "id": "TLe8cuNyl6B8"
      },
      "source": [
        "Now we apply the regular expression to the real data since we see it works"
      ]
    },
    {
      "cell_type": "code",
      "execution_count": 11,
      "metadata": {
        "colab": {
          "base_uri": "https://localhost:8080/"
        },
        "id": "b0kpzAvXbl8v",
        "outputId": "567f545d-7486-4906-c41f-312f160e019c"
      },
      "outputs": [
        {
          "name": "stdout",
          "output_type": "stream",
          "text": [
            "812084 rows containing \"@\", \"#\", or \"http(s)\".\n",
            "False\n",
            "0 rows containing \"@\", \"#\", or \"http(s)\".\n"
          ]
        },
        {
          "data": {
            "text/html": [
              "<div>\n",
              "<style scoped>\n",
              "    .dataframe tbody tr th:only-of-type {\n",
              "        vertical-align: middle;\n",
              "    }\n",
              "\n",
              "    .dataframe tbody tr th {\n",
              "        vertical-align: top;\n",
              "    }\n",
              "\n",
              "    .dataframe thead th {\n",
              "        text-align: right;\n",
              "    }\n",
              "</style>\n",
              "<table border=\"1\" class=\"dataframe\">\n",
              "  <thead>\n",
              "    <tr style=\"text-align: right;\">\n",
              "      <th></th>\n",
              "      <th>target</th>\n",
              "      <th>ids</th>\n",
              "      <th>date</th>\n",
              "      <th>flag</th>\n",
              "      <th>user</th>\n",
              "      <th>text</th>\n",
              "    </tr>\n",
              "  </thead>\n",
              "  <tbody>\n",
              "    <tr>\n",
              "      <th>0</th>\n",
              "      <td>0</td>\n",
              "      <td>1467810369</td>\n",
              "      <td>Mon Apr 06 22:19:45 PDT 2009</td>\n",
              "      <td>NO_QUERY</td>\n",
              "      <td>_TheSpecialOne_</td>\n",
              "      <td>- Awww, that's a bummer.  You shoulda got Da...</td>\n",
              "    </tr>\n",
              "    <tr>\n",
              "      <th>1</th>\n",
              "      <td>0</td>\n",
              "      <td>1467810672</td>\n",
              "      <td>Mon Apr 06 22:19:49 PDT 2009</td>\n",
              "      <td>NO_QUERY</td>\n",
              "      <td>scotthamilton</td>\n",
              "      <td>is upset that he can't update his Facebook by ...</td>\n",
              "    </tr>\n",
              "    <tr>\n",
              "      <th>2</th>\n",
              "      <td>0</td>\n",
              "      <td>1467810917</td>\n",
              "      <td>Mon Apr 06 22:19:53 PDT 2009</td>\n",
              "      <td>NO_QUERY</td>\n",
              "      <td>mattycus</td>\n",
              "      <td>I dived many times for the ball. Managed to s...</td>\n",
              "    </tr>\n",
              "    <tr>\n",
              "      <th>3</th>\n",
              "      <td>0</td>\n",
              "      <td>1467811184</td>\n",
              "      <td>Mon Apr 06 22:19:57 PDT 2009</td>\n",
              "      <td>NO_QUERY</td>\n",
              "      <td>ElleCTF</td>\n",
              "      <td>my whole body feels itchy and like its on fire</td>\n",
              "    </tr>\n",
              "    <tr>\n",
              "      <th>4</th>\n",
              "      <td>0</td>\n",
              "      <td>1467811193</td>\n",
              "      <td>Mon Apr 06 22:19:57 PDT 2009</td>\n",
              "      <td>NO_QUERY</td>\n",
              "      <td>Karoli</td>\n",
              "      <td>no, it's not behaving at all. i'm mad. why am...</td>\n",
              "    </tr>\n",
              "  </tbody>\n",
              "</table>\n",
              "</div>"
            ],
            "text/plain": [
              "   target         ids                          date      flag  \\\n",
              "0       0  1467810369  Mon Apr 06 22:19:45 PDT 2009  NO_QUERY   \n",
              "1       0  1467810672  Mon Apr 06 22:19:49 PDT 2009  NO_QUERY   \n",
              "2       0  1467810917  Mon Apr 06 22:19:53 PDT 2009  NO_QUERY   \n",
              "3       0  1467811184  Mon Apr 06 22:19:57 PDT 2009  NO_QUERY   \n",
              "4       0  1467811193  Mon Apr 06 22:19:57 PDT 2009  NO_QUERY   \n",
              "\n",
              "              user                                               text  \n",
              "0  _TheSpecialOne_    - Awww, that's a bummer.  You shoulda got Da...  \n",
              "1    scotthamilton  is upset that he can't update his Facebook by ...  \n",
              "2         mattycus   I dived many times for the ball. Managed to s...  \n",
              "3          ElleCTF    my whole body feels itchy and like its on fire   \n",
              "4           Karoli   no, it's not behaving at all. i'm mad. why am...  "
            ]
          },
          "execution_count": 11,
          "metadata": {},
          "output_type": "execute_result"
        }
      ],
      "source": [
        "#matiss\n",
        "print(df['text'].str.contains(reg_pattern).sum(), 'rows containing \"@\", \"#\", or \"http(s)\".')\n",
        "df['text'] = df['text'].str.replace(reg_pattern, '', regex=True)\n",
        "print(df['text'].str.contains(reg_pattern).any())\n",
        "print(df['text'].str.contains(reg_pattern).sum(), 'rows containing \"@\", \"#\", or \"http(s)\".')\n",
        "df.head()"
      ]
    },
    {
      "cell_type": "markdown",
      "metadata": {
        "id": "Z188hL4Nv82Z"
      },
      "source": [
        "### Stop word % threshold\n",
        "now we can remove text from the df where a given threshold of the words in the tweet are stopwords. This will help use remove tweets that contain very little content after stopword removal."
      ]
    },
    {
      "cell_type": "code",
      "execution_count": 12,
      "metadata": {
        "colab": {
          "base_uri": "https://localhost:8080/"
        },
        "id": "9saBl1I8wREQ",
        "outputId": "72576df5-b11c-4380-a167-d2e5dfc1a2ae"
      },
      "outputs": [],
      "source": [
        "#matiss\n",
        "stop_words = set(stopwords.words('english'))\n",
        "\n",
        "empty_tweet_count = 0\n",
        "\n",
        "### returns the % of a given text which is made up of stop words\n",
        "def stop_word_perc(text):\n",
        "  tokens = word_tokenize(text.lower())\n",
        "  count_stop_words = sum(1 for token in tokens if token in stop_words)\n",
        "  if len(tokens) > 0:\n",
        "    return count_stop_words / len(tokens)\n",
        "  else:\n",
        "    return 1\n",
        "\n",
        "## stopword test\n",
        "#### do testing below ####\n"
      ]
    },
    {
      "cell_type": "markdown",
      "metadata": {
        "id": "SYbuCFZeEcQ7"
      },
      "source": [
        "Want to ensure an even representation across the negative (0) class and positive (4) class. So we must sample accordingly and ensure an even representation."
      ]
    },
    {
      "cell_type": "markdown",
      "metadata": {
        "id": "Hsbn5h4qF8Ch"
      },
      "source": [
        "We don't need to use all 160k tweets so we will use 5k for train, 10k for test, and 2k for hyperparam tuning. \n",
        "We want an even distribution of both classes so we can pull out 8.5k of each class using a random sampling without replacement and create a new data frame for producing train/test/validation.\n",
        "Use the same random seed so that we can reproduce results"
      ]
    },
    {
      "cell_type": "code",
      "execution_count": 13,
      "metadata": {
        "colab": {
          "base_uri": "https://localhost:8080/"
        },
        "id": "p-K2zaNBDXUs",
        "outputId": "6c831359-45b2-4eb1-f2b0-37f6a3c5c62c"
      },
      "outputs": [
        {
          "name": "stdout",
          "output_type": "stream",
          "text": [
            "There are  25000  negative observations\n",
            "There are  25000  positive observations\n"
          ]
        }
      ],
      "source": [
        "#matiss\n",
        "sub_df = df.groupby('target', group_keys=False).apply(lambda x: x.sample(25000,random_state=522))\n",
        "\n",
        "sub_df\n",
        "print(\"There are \", sub_df['target'].value_counts()[0], \" negative observations\")\n",
        "print(\"There are \", sub_df['target'].value_counts()[4], \" positive observations\")"
      ]
    },
    {
      "attachments": {},
      "cell_type": "markdown",
      "metadata": {
        "id": "Idm7WyFWvToq"
      },
      "source": [
        "### 1.1.2 Test/Train split"
      ]
    },
    {
      "cell_type": "code",
      "execution_count": 14,
      "metadata": {
        "colab": {
          "base_uri": "https://localhost:8080/"
        },
        "id": "wwGmqt7cvW_N",
        "outputId": "dce51319-0dcc-4d6d-a8d0-49f3c6169f37"
      },
      "outputs": [
        {
          "name": "stdout",
          "output_type": "stream",
          "text": [
            "296 training set tweets are made up of greater than or equal to 70.0 % stop words. They will be removed.\n",
            "32000 tweets in dataframe before removal\n",
            "31704 tweets remain in the dataframe\n",
            "Training df has:\n",
            "           31704 total observations\n",
            "           15793 negative observations; 15911 positive observations\n",
            "\n",
            "73 validation set tweets are made up of greater than or equal to 70.0 % stop words. They will be removed.\n",
            "8000 tweets in dataframe before removal\n",
            "7927 tweets in dataframe after removal\n",
            "Validation df has:\n",
            "           7927 total observations\n",
            "           4009 negative observations; 3918 positive observations\n",
            "\n",
            "99 test set tweets are made up of greater than or equal to 70.0 % stop words. They will be removed.\n",
            "10000 tweets in dataframe before removal\n",
            "9901 tweets in dataframe after removal\n",
            "Test df has:\n",
            "           9901 total observations\n",
            "           4945 negative observations; 4956 positive observations\n",
            "\n"
          ]
        }
      ],
      "source": [
        "#matiss\n",
        "#### could do some data exploration to graph stopword % as a function of number of tweets meeting the threshold.\n",
        "train_df, test_df = train_test_split(sub_df, test_size = .2, random_state = 252)\n",
        "train_df, val_df = train_test_split(train_df, test_size = .2, random_state = 208)\n",
        "\n",
        "stop_word_threshold = .70\n",
        "\n",
        "short_tweets_index = train_df['text'].apply(stop_word_perc) > stop_word_threshold\n",
        "print(short_tweets_index.sum(), 'training set tweets are made up of greater than or equal to', stop_word_threshold*100, \n",
        "      '% stop words. They will be removed.')\n",
        "print(train_df.shape[0], \"tweets in dataframe before removal\")\n",
        "train_df = train_df[~short_tweets_index]\n",
        "print(train_df.shape[0],\"tweets remain in the dataframe\")\n",
        "print(\"Training df has:\\n          \", train_df.shape[0], \n",
        "    \"total observations\\n          \",train_df['target'].value_counts()[0],\"negative observations;\",\n",
        "    train_df['target'].value_counts()[4], \"positive observations\\n\")\n",
        "\n",
        "short_tweets_index = val_df['text'].apply(stop_word_perc) > stop_word_threshold\n",
        "print(short_tweets_index.sum(), 'validation set tweets are made up of greater than or equal to', stop_word_threshold*100, \n",
        "      '% stop words. They will be removed.')\n",
        "print(val_df.shape[0], \"tweets in dataframe before removal\")\n",
        "val_df = val_df[~short_tweets_index]\n",
        "print(val_df.shape[0], \"tweets in dataframe after removal\")\n",
        "print(\"Validation df has:\\n          \", val_df.shape[0], \n",
        "    \"total observations\\n          \",val_df['target'].value_counts()[0],\"negative observations;\",\n",
        "    val_df['target'].value_counts()[4], \"positive observations\\n\")\n",
        "\n",
        "short_tweets_index = test_df['text'].apply(stop_word_perc) > stop_word_threshold\n",
        "print(short_tweets_index.sum(), 'test set tweets are made up of greater than or equal to', stop_word_threshold*100, \n",
        "      '% stop words. They will be removed.')\n",
        "print(test_df.shape[0], \"tweets in dataframe before removal\")\n",
        "test_df = test_df[~short_tweets_index]\n",
        "print(test_df.shape[0], \"tweets in dataframe after removal\")\n",
        "print(\"Test df has:\\n          \", test_df.shape[0], \n",
        "    \"total observations\\n          \",test_df['target'].value_counts()[0],\"negative observations;\",\n",
        "    test_df['target'].value_counts()[4], \"positive observations\\n\")"
      ]
    },
    {
      "cell_type": "markdown",
      "metadata": {
        "id": "EuRbXdnhi_qP"
      },
      "source": [
        "# 1.2 Data Preprocessing\n",
        "\n",
        "\n",
        "Describe in detail any text preprocessing you did for the SVM/LG classifier and for\n",
        "BERT/RoBERTA classifiera.\n",
        "– Tokenizers that you used, discuss very briefly how they tokenize text and how the tokenizers\n",
        "for BERT/RoBERTA and the SVM/LG differ. Show you understand the technologies.\n",
        "- Did you use tf-idf for SVM/LG? What other pre-processing steps? Preprocessing such as stop\n",
        "word removal, lower casing, stemming etc.\n",
        "- Discuss exactly what data you used as input to BERT/RoBERTA, if you did any preprocessing\n",
        "except for tokenization and why you did or did not. Preprocessing such as stop word removal,\n",
        "lower casing, stemming etc.\n"
      ]
    },
    {
      "cell_type": "code",
      "execution_count": 15,
      "metadata": {},
      "outputs": [],
      "source": [
        "def Preprocessv2(text):\n",
        "\n",
        "    #1 Lower \n",
        "    text = str.lower(text)\n",
        "\n",
        "    #2 Remove puntuations\n",
        "    text = re.sub(r'[^\\w\\s]', ' ', text)\n",
        "\n",
        "    #3 Remove white space\n",
        "    text = text.strip()\n",
        "    text = re.sub(r'\\s+', ' ', text)\n",
        "\n",
        "    return text"
      ]
    },
    {
      "attachments": {},
      "cell_type": "markdown",
      "metadata": {},
      "source": [
        "*Few Points to note*\n",
        "1. We will not be processing the emojis and replacing them with corresponding text because. it is important to note that not all emojis have clear corresponding text, and some may have multiple interpretations depending on the context. In these cases, replacing emojis with text may not be beneficial or may even introduce noise into the dataset. It is also worth considering that emojis are a unique aspect of Twitter and social media language, and may not be present or used in the same way in other types of text data.\n",
        "2. Handling white spaces in text data is an important preprocessing step that helps to improve the accuracy and consistency of machine learning models. Text data often contains unnecessary white spaces, such as extra spaces between words, leading or trailing spaces, or consecutive white spaces. Removing these extra spaces can simplify the data and reduce the dimensionality of the feature space, which can improve the efficiency of the model. Additionally, handling white spaces can help to ensure consistency in the text data and avoid introducing biases based on differences in how white spaces are used in different languages or contexts. Overall, handling white spaces is an essential preprocessing step in text analysis that can help to simplify the data, improve consistency, and avoid bias in the model.\n",
        "3. By removing punctuations, the text data can be simplified, and the dimensionality of the feature space can be reduced, which can improve the efficiency and performance of the model. Additionally, removing punctuations can help to ensure consistency in the data and make it easier to interpret the results of the analysis. Overall, removing punctuations is an important preprocessing step in text analysis that can help to improve the accuracy and interpretability of machine learning models."
      ]
    },
    {
      "cell_type": "code",
      "execution_count": 16,
      "metadata": {},
      "outputs": [],
      "source": [
        "x_train = train_df['text'].apply(lambda tw: Preprocessv2(tw))\n",
        "x_test = test_df['text'].apply(lambda tw: Preprocessv2(tw))\n",
        "\n",
        "y_train = train_df['target']\n",
        "y_test = test_df['target']"
      ]
    },
    {
      "cell_type": "code",
      "execution_count": 17,
      "metadata": {},
      "outputs": [
        {
          "data": {
            "text/plain": [
              "571234      bed sleep dreams over themacystar is now visible\n",
              "1527690    usually it just means that it s the first time...\n",
              "608012     now is the time of night i usually check cydia...\n",
              "1371354    ohmylanta i think you have a new loveeee what ...\n",
              "459887                        damn drop by 34 52 twitter com\n",
              "Name: text, dtype: object"
            ]
          },
          "execution_count": 17,
          "metadata": {},
          "output_type": "execute_result"
        }
      ],
      "source": [
        "x_train.head()"
      ]
    },
    {
      "cell_type": "code",
      "execution_count": 18,
      "metadata": {},
      "outputs": [
        {
          "data": {
            "text/plain": [
              "571234     Bed.Sleep.Dreams.Over.   [TheMacyStar is now v...\n",
              "1527690     Usually it just means that it's the first tim...\n",
              "608012     Now is the time of night I usually check Cydia...\n",
              "1371354     ohmylanta I think you have a new LOVEEEE,what...\n",
              "459887                   damn... drop by 34  52. twitter.com\n",
              "Name: text, dtype: object"
            ]
          },
          "execution_count": 18,
          "metadata": {},
          "output_type": "execute_result"
        }
      ],
      "source": [
        "train_df['text'].head()"
      ]
    },
    {
      "cell_type": "code",
      "execution_count": 19,
      "metadata": {},
      "outputs": [],
      "source": [
        "def printSVC(x_train, y_train, x_test, y_test):\n",
        "    SVCmodel = LinearSVC()\n",
        "    SVCmodel.fit(x_train, y_train)\n",
        "    predictions = SVCmodel.predict(x_test)\n",
        "    print(metrics.classification_report(y_test, predictions))"
      ]
    },
    {
      "cell_type": "code",
      "execution_count": 20,
      "metadata": {},
      "outputs": [
        {
          "name": "stdout",
          "output_type": "stream",
          "text": [
            "              precision    recall  f1-score   support\n",
            "\n",
            "           0       0.77      0.81      0.79      4945\n",
            "           4       0.80      0.75      0.78      4956\n",
            "\n",
            "    accuracy                           0.78      9901\n",
            "   macro avg       0.79      0.78      0.78      9901\n",
            "weighted avg       0.79      0.78      0.78      9901\n",
            "\n"
          ]
        }
      ],
      "source": [
        "vectoriser = TfidfVectorizer(ngram_range=(1,3))\n",
        "\n",
        "x_train_svc = vectoriser.fit_transform(x_train)\n",
        "x_test_svc = vectoriser.transform(x_test)\n",
        "\n",
        "printSVC(x_train_svc, y_train, x_test_svc, y_test)"
      ]
    },
    {
      "cell_type": "code",
      "execution_count": 21,
      "metadata": {},
      "outputs": [
        {
          "name": "stdout",
          "output_type": "stream",
          "text": [
            "              precision    recall  f1-score   support\n",
            "\n",
            "           0       0.79      0.76      0.77      4945\n",
            "           4       0.77      0.80      0.78      4956\n",
            "\n",
            "    accuracy                           0.78      9901\n",
            "   macro avg       0.78      0.78      0.78      9901\n",
            "weighted avg       0.78      0.78      0.78      9901\n",
            "\n"
          ]
        }
      ],
      "source": [
        "vectoriser = CountVectorizer(ngram_range=(1,3))\n",
        "\n",
        "x_train_svc = vectoriser.fit_transform(x_train)\n",
        "x_test_svc = vectoriser.transform(x_test)\n",
        "\n",
        "printSVC(x_train_svc, y_train, x_test_svc, y_test)"
      ]
    },
    {
      "cell_type": "code",
      "execution_count": 22,
      "metadata": {},
      "outputs": [
        {
          "name": "stdout",
          "output_type": "stream",
          "text": [
            "              precision    recall  f1-score   support\n",
            "\n",
            "           0       0.79      0.77      0.78      4945\n",
            "           4       0.78      0.80      0.79      4956\n",
            "\n",
            "    accuracy                           0.78      9901\n",
            "   macro avg       0.78      0.78      0.78      9901\n",
            "weighted avg       0.78      0.78      0.78      9901\n",
            "\n"
          ]
        }
      ],
      "source": [
        "vectoriser = HashingVectorizer(ngram_range=(1,3))\n",
        "\n",
        "x_train_svc = vectoriser.fit_transform(x_train)\n",
        "x_test_svc = vectoriser.transform(x_test)\n",
        "\n",
        "printSVC(x_train_svc, y_train, x_test_svc, y_test)"
      ]
    },
    {
      "attachments": {},
      "cell_type": "markdown",
      "metadata": {},
      "source": [
        "Choosing the right ngram parameter for vectorizer"
      ]
    },
    {
      "cell_type": "code",
      "execution_count": 23,
      "metadata": {},
      "outputs": [],
      "source": [
        "def printSVCv2(x_train, y_train, x_test, y_test, max_n_gram):\n",
        "    SVCmodel = LinearSVC()\n",
        "    SVCmodel.fit(x_train, y_train)\n",
        "    predictions = SVCmodel.predict(x_test)\n",
        "    return np.array([max_n_gram,f1_score(y_test, predictions, pos_label=0),f1_score(y_test, predictions, pos_label=4)], dtype='object')"
      ]
    },
    {
      "cell_type": "code",
      "execution_count": 24,
      "metadata": {},
      "outputs": [],
      "source": [
        "testing = []\n",
        "for i in range(2,8):\n",
        "    vectoriser = HashingVectorizer(ngram_range=(1,i))\n",
        "    x_train_svc = vectoriser.fit_transform(x_train)\n",
        "    x_test_svc = vectoriser.transform(x_test)\n",
        "    testing.append(printSVCv2(x_train_svc, y_train, x_test_svc, y_test, i))"
      ]
    },
    {
      "cell_type": "code",
      "execution_count": 25,
      "metadata": {},
      "outputs": [
        {
          "data": {
            "text/html": [
              "<div>\n",
              "<style scoped>\n",
              "    .dataframe tbody tr th:only-of-type {\n",
              "        vertical-align: middle;\n",
              "    }\n",
              "\n",
              "    .dataframe tbody tr th {\n",
              "        vertical-align: top;\n",
              "    }\n",
              "\n",
              "    .dataframe thead th {\n",
              "        text-align: right;\n",
              "    }\n",
              "</style>\n",
              "<table border=\"1\" class=\"dataframe\">\n",
              "  <thead>\n",
              "    <tr style=\"text-align: right;\">\n",
              "      <th></th>\n",
              "      <th>0</th>\n",
              "      <th>1</th>\n",
              "      <th>2</th>\n",
              "    </tr>\n",
              "  </thead>\n",
              "  <tbody>\n",
              "    <tr>\n",
              "      <th>0</th>\n",
              "      <td>2</td>\n",
              "      <td>0.778952</td>\n",
              "      <td>0.785636</td>\n",
              "    </tr>\n",
              "    <tr>\n",
              "      <th>1</th>\n",
              "      <td>3</td>\n",
              "      <td>0.780203</td>\n",
              "      <td>0.786418</td>\n",
              "    </tr>\n",
              "    <tr>\n",
              "      <th>2</th>\n",
              "      <td>4</td>\n",
              "      <td>0.780493</td>\n",
              "      <td>0.785750</td>\n",
              "    </tr>\n",
              "    <tr>\n",
              "      <th>3</th>\n",
              "      <td>5</td>\n",
              "      <td>0.779202</td>\n",
              "      <td>0.785792</td>\n",
              "    </tr>\n",
              "    <tr>\n",
              "      <th>4</th>\n",
              "      <td>6</td>\n",
              "      <td>0.779242</td>\n",
              "      <td>0.784181</td>\n",
              "    </tr>\n",
              "  </tbody>\n",
              "</table>\n",
              "</div>"
            ],
            "text/plain": [
              "   0         1         2\n",
              "0  2  0.778952  0.785636\n",
              "1  3  0.780203  0.786418\n",
              "2  4  0.780493  0.785750\n",
              "3  5  0.779202  0.785792\n",
              "4  6  0.779242  0.784181"
            ]
          },
          "execution_count": 25,
          "metadata": {},
          "output_type": "execute_result"
        }
      ],
      "source": [
        "testingdf = pd.DataFrame(list(map(np.ravel, testing)))\n",
        "testingdf.head()"
      ]
    },
    {
      "cell_type": "code",
      "execution_count": 26,
      "metadata": {},
      "outputs": [
        {
          "data": {
            "image/png": "[encoded data removed]",
            "text/plain": [
              "<Figure size 640x480 with 1 Axes>"
            ]
          },
          "metadata": {},
          "output_type": "display_data"
        }
      ],
      "source": [
        "plt.plot(testingdf[0].astype('int'), testingdf[1],'-')\n",
        "plt.plot(testingdf[0].astype('int'), testingdf[2],'-')\n",
        "plt.xlabel(\"max ngram\")\n",
        "plt.ylabel(\"F1 Scores\")\n",
        "plt.title(\"Choosing the right n-gram\")\n",
        "plt.show()\n"
      ]
    },
    {
      "attachments": {},
      "cell_type": "markdown",
      "metadata": {},
      "source": [
        "We will proceed with max-ngram of 4"
      ]
    },
    {
      "cell_type": "code",
      "execution_count": 27,
      "metadata": {},
      "outputs": [
        {
          "name": "stdout",
          "output_type": "stream",
          "text": [
            "              precision    recall  f1-score   support\n",
            "\n",
            "           0       0.76      0.82      0.79      4945\n",
            "           4       0.81      0.74      0.77      4956\n",
            "\n",
            "    accuracy                           0.78      9901\n",
            "   macro avg       0.78      0.78      0.78      9901\n",
            "weighted avg       0.78      0.78      0.78      9901\n",
            "\n"
          ]
        }
      ],
      "source": [
        "vectoriser = TfidfVectorizer(ngram_range=(1,4))\n",
        "\n",
        "x_train_svc = vectoriser.fit_transform(x_train)\n",
        "x_test_svc = vectoriser.transform(x_test)\n",
        "\n",
        "printSVC(x_train_svc, y_train, x_test_svc, y_test)"
      ]
    },
    {
      "cell_type": "code",
      "execution_count": 28,
      "metadata": {},
      "outputs": [],
      "source": [
        "CompiledResultsdf = pd.DataFrame(columns=[\"Model\",\"Emotion\",\"F1_Score\",\"Precision\",\"Recall\",\"Accuracy\"])"
      ]
    },
    {
      "cell_type": "code",
      "execution_count": 29,
      "metadata": {},
      "outputs": [],
      "source": [
        "def getSVCScores(x_train, y_train, x_test, y_test, pos_label):\n",
        "    SVCmodel = LinearSVC()\n",
        "    SVCmodel.fit(x_train, y_train)\n",
        "    predictions = SVCmodel.predict(x_test)\n",
        "    return np.array([\n",
        "        \"SVC\",\n",
        "        pos_label,\n",
        "        f1_score(y_test, predictions,pos_label=pos_label),\n",
        "        precision_score(y_test, predictions,pos_label=pos_label),\n",
        "        recall_score(y_test, predictions,pos_label=pos_label),\n",
        "        accuracy_score(y_test, predictions)\n",
        "    ])"
      ]
    },
    {
      "cell_type": "code",
      "execution_count": 30,
      "metadata": {},
      "outputs": [
        {
          "data": {
            "text/html": [
              "<div>\n",
              "<style scoped>\n",
              "    .dataframe tbody tr th:only-of-type {\n",
              "        vertical-align: middle;\n",
              "    }\n",
              "\n",
              "    .dataframe tbody tr th {\n",
              "        vertical-align: top;\n",
              "    }\n",
              "\n",
              "    .dataframe thead th {\n",
              "        text-align: right;\n",
              "    }\n",
              "</style>\n",
              "<table border=\"1\" class=\"dataframe\">\n",
              "  <thead>\n",
              "    <tr style=\"text-align: right;\">\n",
              "      <th></th>\n",
              "      <th>Model</th>\n",
              "      <th>Emotion</th>\n",
              "      <th>F1_Score</th>\n",
              "      <th>Precision</th>\n",
              "      <th>Recall</th>\n",
              "      <th>Accuracy</th>\n",
              "    </tr>\n",
              "  </thead>\n",
              "  <tbody>\n",
              "    <tr>\n",
              "      <th>0</th>\n",
              "      <td>SVC</td>\n",
              "      <td>0</td>\n",
              "      <td>0.7909593559026094</td>\n",
              "      <td>0.7600671140939598</td>\n",
              "      <td>0.824469160768453</td>\n",
              "      <td>0.7823452176547824</td>\n",
              "    </tr>\n",
              "    <tr>\n",
              "      <th>1</th>\n",
              "      <td>SVC</td>\n",
              "      <td>4</td>\n",
              "      <td>0.77299062467081</td>\n",
              "      <td>0.8086841525236941</td>\n",
              "      <td>0.7403147699757869</td>\n",
              "      <td>0.7823452176547824</td>\n",
              "    </tr>\n",
              "  </tbody>\n",
              "</table>\n",
              "</div>"
            ],
            "text/plain": [
              "  Model Emotion            F1_Score           Precision              Recall  \\\n",
              "0   SVC       0  0.7909593559026094  0.7600671140939598   0.824469160768453   \n",
              "1   SVC       4    0.77299062467081  0.8086841525236941  0.7403147699757869   \n",
              "\n",
              "             Accuracy  \n",
              "0  0.7823452176547824  \n",
              "1  0.7823452176547824  "
            ]
          },
          "execution_count": 30,
          "metadata": {},
          "output_type": "execute_result"
        }
      ],
      "source": [
        "CompiledResultsdf.loc[len(CompiledResultsdf)] = getSVCScores(x_train_svc, y_train, x_test_svc, y_test, 0)\n",
        "CompiledResultsdf.loc[len(CompiledResultsdf)] = getSVCScores(x_train_svc, y_train, x_test_svc, y_test, 4)\n",
        "CompiledResultsdf.head()"
      ]
    },
    {
      "cell_type": "markdown",
      "metadata": {},
      "source": [
        "We will now use the grid serachcv for finding the best hyperparmeters"
      ]
    },
    {
      "cell_type": "code",
      "execution_count": 31,
      "metadata": {},
      "outputs": [],
      "source": [
        "param_grid_svc = { \n",
        "    'C':[0.1,1],\n",
        "    'kernel':['rbf','linear']    \n",
        "    }\n",
        "\n",
        "grid_svc = GridSearchCV(\n",
        "    SVC(),\n",
        "    param_grid_svc, \n",
        "    n_jobs=-1,\n",
        "    cv=3,\n",
        "    scoring='f1_micro'\n",
        "    )\n",
        "\n",
        "grid_svc.fit(x_train_svc,y_train)\n",
        "print(grid_svc.best_params_)\n",
        "print(grid_svc.score(x_test_svc,y_test))"
      ]
    },
    {
      "cell_type": "code",
      "execution_count": null,
      "metadata": {
        "colab": {
          "base_uri": "https://localhost:8080/",
          "height": 244
        },
        "id": "Si11ptvWX25w",
        "outputId": "45ae235e-58e9-4f35-f878-2a4e7985bf98"
      },
      "outputs": [
        {
          "ename": "ValueError",
          "evalue": "Invalid parameter 'C' for estimator Pipeline(steps=[('tfidf', TfidfVectorizer()), ('clf', LogisticRegression())]). Valid parameters are: ['memory', 'steps', 'verbose'].",
          "output_type": "error",
          "traceback": [
            "\u001b[0;31m---------------------------------------------------------------------------\u001b[0m",
            "\u001b[0;31mValueError\u001b[0m                                Traceback (most recent call last)",
            "Cell \u001b[0;32mIn[14], line 12\u001b[0m\n\u001b[1;32m     10\u001b[0m params \u001b[39m=\u001b[39m {\u001b[39m'\u001b[39m\u001b[39ml1_ratio\u001b[39m\u001b[39m'\u001b[39m: np\u001b[39m.\u001b[39mlogspace(\u001b[39m-\u001b[39m\u001b[39m4\u001b[39m, \u001b[39m0\u001b[39m, \u001b[39m3\u001b[39m), \u001b[39m'\u001b[39m\u001b[39mC\u001b[39m\u001b[39m'\u001b[39m: np\u001b[39m.\u001b[39mlogspace(\u001b[39m-\u001b[39m\u001b[39m2\u001b[39m, \u001b[39m1\u001b[39m, \u001b[39m4\u001b[39m), \u001b[39m'\u001b[39m\u001b[39mclass_weight\u001b[39m\u001b[39m'\u001b[39m: [\u001b[39m'\u001b[39m\u001b[39mbalanced\u001b[39m\u001b[39m'\u001b[39m, \u001b[39m'\u001b[39m\u001b[39m'\u001b[39m]}\n\u001b[1;32m     11\u001b[0m gs \u001b[39m=\u001b[39m GridSearchCV(pipeline, param_grid\u001b[39m=\u001b[39mparams, scoring\u001b[39m=\u001b[39m\u001b[39m'\u001b[39m\u001b[39mf1\u001b[39m\u001b[39m'\u001b[39m, cv\u001b[39m=\u001b[39m\u001b[39m5\u001b[39m)\n\u001b[0;32m---> 12\u001b[0m gs\u001b[39m.\u001b[39;49mfit(x_train, y_train)\n\u001b[1;32m     13\u001b[0m predictions_logit \u001b[39m=\u001b[39m gs\u001b[39m.\u001b[39mpredict(x_test)\n",
            "File \u001b[0;32m~/Documents/IllinoisTech/CS522/Project/local/cs522/lib/python3.10/site-packages/sklearn/model_selection/_search.py:874\u001b[0m, in \u001b[0;36mBaseSearchCV.fit\u001b[0;34m(self, X, y, groups, **fit_params)\u001b[0m\n\u001b[1;32m    868\u001b[0m     results \u001b[39m=\u001b[39m \u001b[39mself\u001b[39m\u001b[39m.\u001b[39m_format_results(\n\u001b[1;32m    869\u001b[0m         all_candidate_params, n_splits, all_out, all_more_results\n\u001b[1;32m    870\u001b[0m     )\n\u001b[1;32m    872\u001b[0m     \u001b[39mreturn\u001b[39;00m results\n\u001b[0;32m--> 874\u001b[0m \u001b[39mself\u001b[39;49m\u001b[39m.\u001b[39;49m_run_search(evaluate_candidates)\n\u001b[1;32m    876\u001b[0m \u001b[39m# multimetric is determined here because in the case of a callable\u001b[39;00m\n\u001b[1;32m    877\u001b[0m \u001b[39m# self.scoring the return type is only known after calling\u001b[39;00m\n\u001b[1;32m    878\u001b[0m first_test_score \u001b[39m=\u001b[39m all_out[\u001b[39m0\u001b[39m][\u001b[39m\"\u001b[39m\u001b[39mtest_scores\u001b[39m\u001b[39m\"\u001b[39m]\n",
            "File \u001b[0;32m~/Documents/IllinoisTech/CS522/Project/local/cs522/lib/python3.10/site-packages/sklearn/model_selection/_search.py:1388\u001b[0m, in \u001b[0;36mGridSearchCV._run_search\u001b[0;34m(self, evaluate_candidates)\u001b[0m\n\u001b[1;32m   1386\u001b[0m \u001b[39mdef\u001b[39;00m \u001b[39m_run_search\u001b[39m(\u001b[39mself\u001b[39m, evaluate_candidates):\n\u001b[1;32m   1387\u001b[0m \u001b[39m    \u001b[39m\u001b[39m\"\"\"Search all candidates in param_grid\"\"\"\u001b[39;00m\n\u001b[0;32m-> 1388\u001b[0m     evaluate_candidates(ParameterGrid(\u001b[39mself\u001b[39;49m\u001b[39m.\u001b[39;49mparam_grid))\n",
            "File \u001b[0;32m~/Documents/IllinoisTech/CS522/Project/local/cs522/lib/python3.10/site-packages/sklearn/model_selection/_search.py:821\u001b[0m, in \u001b[0;36mBaseSearchCV.fit.<locals>.evaluate_candidates\u001b[0;34m(candidate_params, cv, more_results)\u001b[0m\n\u001b[1;32m    813\u001b[0m \u001b[39mif\u001b[39;00m \u001b[39mself\u001b[39m\u001b[39m.\u001b[39mverbose \u001b[39m>\u001b[39m \u001b[39m0\u001b[39m:\n\u001b[1;32m    814\u001b[0m     \u001b[39mprint\u001b[39m(\n\u001b[1;32m    815\u001b[0m         \u001b[39m\"\u001b[39m\u001b[39mFitting \u001b[39m\u001b[39m{0}\u001b[39;00m\u001b[39m folds for each of \u001b[39m\u001b[39m{1}\u001b[39;00m\u001b[39m candidates,\u001b[39m\u001b[39m\"\u001b[39m\n\u001b[1;32m    816\u001b[0m         \u001b[39m\"\u001b[39m\u001b[39m totalling \u001b[39m\u001b[39m{2}\u001b[39;00m\u001b[39m fits\u001b[39m\u001b[39m\"\u001b[39m\u001b[39m.\u001b[39mformat(\n\u001b[1;32m    817\u001b[0m             n_splits, n_candidates, n_candidates \u001b[39m*\u001b[39m n_splits\n\u001b[1;32m    818\u001b[0m         )\n\u001b[1;32m    819\u001b[0m     )\n\u001b[0;32m--> 821\u001b[0m out \u001b[39m=\u001b[39m parallel(\n\u001b[1;32m    822\u001b[0m     delayed(_fit_and_score)(\n\u001b[1;32m    823\u001b[0m         clone(base_estimator),\n\u001b[1;32m    824\u001b[0m         X,\n\u001b[1;32m    825\u001b[0m         y,\n\u001b[1;32m    826\u001b[0m         train\u001b[39m=\u001b[39;49mtrain,\n\u001b[1;32m    827\u001b[0m         test\u001b[39m=\u001b[39;49mtest,\n\u001b[1;32m    828\u001b[0m         parameters\u001b[39m=\u001b[39;49mparameters,\n\u001b[1;32m    829\u001b[0m         split_progress\u001b[39m=\u001b[39;49m(split_idx, n_splits),\n\u001b[1;32m    830\u001b[0m         candidate_progress\u001b[39m=\u001b[39;49m(cand_idx, n_candidates),\n\u001b[1;32m    831\u001b[0m         \u001b[39m*\u001b[39;49m\u001b[39m*\u001b[39;49mfit_and_score_kwargs,\n\u001b[1;32m    832\u001b[0m     )\n\u001b[1;32m    833\u001b[0m     \u001b[39mfor\u001b[39;49;00m (cand_idx, parameters), (split_idx, (train, test)) \u001b[39min\u001b[39;49;00m product(\n\u001b[1;32m    834\u001b[0m         \u001b[39menumerate\u001b[39;49m(candidate_params), \u001b[39menumerate\u001b[39;49m(cv\u001b[39m.\u001b[39;49msplit(X, y, groups))\n\u001b[1;32m    835\u001b[0m     )\n\u001b[1;32m    836\u001b[0m )\n\u001b[1;32m    838\u001b[0m \u001b[39mif\u001b[39;00m \u001b[39mlen\u001b[39m(out) \u001b[39m<\u001b[39m \u001b[39m1\u001b[39m:\n\u001b[1;32m    839\u001b[0m     \u001b[39mraise\u001b[39;00m \u001b[39mValueError\u001b[39;00m(\n\u001b[1;32m    840\u001b[0m         \u001b[39m\"\u001b[39m\u001b[39mNo fits were performed. \u001b[39m\u001b[39m\"\u001b[39m\n\u001b[1;32m    841\u001b[0m         \u001b[39m\"\u001b[39m\u001b[39mWas the CV iterator empty? \u001b[39m\u001b[39m\"\u001b[39m\n\u001b[1;32m    842\u001b[0m         \u001b[39m\"\u001b[39m\u001b[39mWere there no candidates?\u001b[39m\u001b[39m\"\u001b[39m\n\u001b[1;32m    843\u001b[0m     )\n",
            "File \u001b[0;32m~/Documents/IllinoisTech/CS522/Project/local/cs522/lib/python3.10/site-packages/sklearn/utils/parallel.py:63\u001b[0m, in \u001b[0;36mParallel.__call__\u001b[0;34m(self, iterable)\u001b[0m\n\u001b[1;32m     58\u001b[0m config \u001b[39m=\u001b[39m get_config()\n\u001b[1;32m     59\u001b[0m iterable_with_config \u001b[39m=\u001b[39m (\n\u001b[1;32m     60\u001b[0m     (_with_config(delayed_func, config), args, kwargs)\n\u001b[1;32m     61\u001b[0m     \u001b[39mfor\u001b[39;00m delayed_func, args, kwargs \u001b[39min\u001b[39;00m iterable\n\u001b[1;32m     62\u001b[0m )\n\u001b[0;32m---> 63\u001b[0m \u001b[39mreturn\u001b[39;00m \u001b[39msuper\u001b[39;49m()\u001b[39m.\u001b[39;49m\u001b[39m__call__\u001b[39;49m(iterable_with_config)\n",
            "File \u001b[0;32m~/Documents/IllinoisTech/CS522/Project/local/cs522/lib/python3.10/site-packages/joblib/parallel.py:1085\u001b[0m, in \u001b[0;36mParallel.__call__\u001b[0;34m(self, iterable)\u001b[0m\n\u001b[1;32m   1076\u001b[0m \u001b[39mtry\u001b[39;00m:\n\u001b[1;32m   1077\u001b[0m     \u001b[39m# Only set self._iterating to True if at least a batch\u001b[39;00m\n\u001b[1;32m   1078\u001b[0m     \u001b[39m# was dispatched. In particular this covers the edge\u001b[39;00m\n\u001b[0;32m   (...)\u001b[0m\n\u001b[1;32m   1082\u001b[0m     \u001b[39m# was very quick and its callback already dispatched all the\u001b[39;00m\n\u001b[1;32m   1083\u001b[0m     \u001b[39m# remaining jobs.\u001b[39;00m\n\u001b[1;32m   1084\u001b[0m     \u001b[39mself\u001b[39m\u001b[39m.\u001b[39m_iterating \u001b[39m=\u001b[39m \u001b[39mFalse\u001b[39;00m\n\u001b[0;32m-> 1085\u001b[0m     \u001b[39mif\u001b[39;00m \u001b[39mself\u001b[39;49m\u001b[39m.\u001b[39;49mdispatch_one_batch(iterator):\n\u001b[1;32m   1086\u001b[0m         \u001b[39mself\u001b[39m\u001b[39m.\u001b[39m_iterating \u001b[39m=\u001b[39m \u001b[39mself\u001b[39m\u001b[39m.\u001b[39m_original_iterator \u001b[39mis\u001b[39;00m \u001b[39mnot\u001b[39;00m \u001b[39mNone\u001b[39;00m\n\u001b[1;32m   1088\u001b[0m     \u001b[39mwhile\u001b[39;00m \u001b[39mself\u001b[39m\u001b[39m.\u001b[39mdispatch_one_batch(iterator):\n",
            "File \u001b[0;32m~/Documents/IllinoisTech/CS522/Project/local/cs522/lib/python3.10/site-packages/joblib/parallel.py:901\u001b[0m, in \u001b[0;36mParallel.dispatch_one_batch\u001b[0;34m(self, iterator)\u001b[0m\n\u001b[1;32m    899\u001b[0m     \u001b[39mreturn\u001b[39;00m \u001b[39mFalse\u001b[39;00m\n\u001b[1;32m    900\u001b[0m \u001b[39melse\u001b[39;00m:\n\u001b[0;32m--> 901\u001b[0m     \u001b[39mself\u001b[39;49m\u001b[39m.\u001b[39;49m_dispatch(tasks)\n\u001b[1;32m    902\u001b[0m     \u001b[39mreturn\u001b[39;00m \u001b[39mTrue\u001b[39;00m\n",
            "File \u001b[0;32m~/Documents/IllinoisTech/CS522/Project/local/cs522/lib/python3.10/site-packages/joblib/parallel.py:819\u001b[0m, in \u001b[0;36mParallel._dispatch\u001b[0;34m(self, batch)\u001b[0m\n\u001b[1;32m    817\u001b[0m \u001b[39mwith\u001b[39;00m \u001b[39mself\u001b[39m\u001b[39m.\u001b[39m_lock:\n\u001b[1;32m    818\u001b[0m     job_idx \u001b[39m=\u001b[39m \u001b[39mlen\u001b[39m(\u001b[39mself\u001b[39m\u001b[39m.\u001b[39m_jobs)\n\u001b[0;32m--> 819\u001b[0m     job \u001b[39m=\u001b[39m \u001b[39mself\u001b[39;49m\u001b[39m.\u001b[39;49m_backend\u001b[39m.\u001b[39;49mapply_async(batch, callback\u001b[39m=\u001b[39;49mcb)\n\u001b[1;32m    820\u001b[0m     \u001b[39m# A job can complete so quickly than its callback is\u001b[39;00m\n\u001b[1;32m    821\u001b[0m     \u001b[39m# called before we get here, causing self._jobs to\u001b[39;00m\n\u001b[1;32m    822\u001b[0m     \u001b[39m# grow. To ensure correct results ordering, .insert is\u001b[39;00m\n\u001b[1;32m    823\u001b[0m     \u001b[39m# used (rather than .append) in the following line\u001b[39;00m\n\u001b[1;32m    824\u001b[0m     \u001b[39mself\u001b[39m\u001b[39m.\u001b[39m_jobs\u001b[39m.\u001b[39minsert(job_idx, job)\n",
            "File \u001b[0;32m~/Documents/IllinoisTech/CS522/Project/local/cs522/lib/python3.10/site-packages/joblib/_parallel_backends.py:208\u001b[0m, in \u001b[0;36mSequentialBackend.apply_async\u001b[0;34m(self, func, callback)\u001b[0m\n\u001b[1;32m    206\u001b[0m \u001b[39mdef\u001b[39;00m \u001b[39mapply_async\u001b[39m(\u001b[39mself\u001b[39m, func, callback\u001b[39m=\u001b[39m\u001b[39mNone\u001b[39;00m):\n\u001b[1;32m    207\u001b[0m \u001b[39m    \u001b[39m\u001b[39m\"\"\"Schedule a func to be run\"\"\"\u001b[39;00m\n\u001b[0;32m--> 208\u001b[0m     result \u001b[39m=\u001b[39m ImmediateResult(func)\n\u001b[1;32m    209\u001b[0m     \u001b[39mif\u001b[39;00m callback:\n\u001b[1;32m    210\u001b[0m         callback(result)\n",
            "File \u001b[0;32m~/Documents/IllinoisTech/CS522/Project/local/cs522/lib/python3.10/site-packages/joblib/_parallel_backends.py:597\u001b[0m, in \u001b[0;36mImmediateResult.__init__\u001b[0;34m(self, batch)\u001b[0m\n\u001b[1;32m    594\u001b[0m \u001b[39mdef\u001b[39;00m \u001b[39m__init__\u001b[39m(\u001b[39mself\u001b[39m, batch):\n\u001b[1;32m    595\u001b[0m     \u001b[39m# Don't delay the application, to avoid keeping the input\u001b[39;00m\n\u001b[1;32m    596\u001b[0m     \u001b[39m# arguments in memory\u001b[39;00m\n\u001b[0;32m--> 597\u001b[0m     \u001b[39mself\u001b[39m\u001b[39m.\u001b[39mresults \u001b[39m=\u001b[39m batch()\n",
            "File \u001b[0;32m~/Documents/IllinoisTech/CS522/Project/local/cs522/lib/python3.10/site-packages/joblib/parallel.py:288\u001b[0m, in \u001b[0;36mBatchedCalls.__call__\u001b[0;34m(self)\u001b[0m\n\u001b[1;32m    284\u001b[0m \u001b[39mdef\u001b[39;00m \u001b[39m__call__\u001b[39m(\u001b[39mself\u001b[39m):\n\u001b[1;32m    285\u001b[0m     \u001b[39m# Set the default nested backend to self._backend but do not set the\u001b[39;00m\n\u001b[1;32m    286\u001b[0m     \u001b[39m# change the default number of processes to -1\u001b[39;00m\n\u001b[1;32m    287\u001b[0m     \u001b[39mwith\u001b[39;00m parallel_backend(\u001b[39mself\u001b[39m\u001b[39m.\u001b[39m_backend, n_jobs\u001b[39m=\u001b[39m\u001b[39mself\u001b[39m\u001b[39m.\u001b[39m_n_jobs):\n\u001b[0;32m--> 288\u001b[0m         \u001b[39mreturn\u001b[39;00m [func(\u001b[39m*\u001b[39margs, \u001b[39m*\u001b[39m\u001b[39m*\u001b[39mkwargs)\n\u001b[1;32m    289\u001b[0m                 \u001b[39mfor\u001b[39;00m func, args, kwargs \u001b[39min\u001b[39;00m \u001b[39mself\u001b[39m\u001b[39m.\u001b[39mitems]\n",
            "File \u001b[0;32m~/Documents/IllinoisTech/CS522/Project/local/cs522/lib/python3.10/site-packages/joblib/parallel.py:288\u001b[0m, in \u001b[0;36m<listcomp>\u001b[0;34m(.0)\u001b[0m\n\u001b[1;32m    284\u001b[0m \u001b[39mdef\u001b[39;00m \u001b[39m__call__\u001b[39m(\u001b[39mself\u001b[39m):\n\u001b[1;32m    285\u001b[0m     \u001b[39m# Set the default nested backend to self._backend but do not set the\u001b[39;00m\n\u001b[1;32m    286\u001b[0m     \u001b[39m# change the default number of processes to -1\u001b[39;00m\n\u001b[1;32m    287\u001b[0m     \u001b[39mwith\u001b[39;00m parallel_backend(\u001b[39mself\u001b[39m\u001b[39m.\u001b[39m_backend, n_jobs\u001b[39m=\u001b[39m\u001b[39mself\u001b[39m\u001b[39m.\u001b[39m_n_jobs):\n\u001b[0;32m--> 288\u001b[0m         \u001b[39mreturn\u001b[39;00m [func(\u001b[39m*\u001b[39;49margs, \u001b[39m*\u001b[39;49m\u001b[39m*\u001b[39;49mkwargs)\n\u001b[1;32m    289\u001b[0m                 \u001b[39mfor\u001b[39;00m func, args, kwargs \u001b[39min\u001b[39;00m \u001b[39mself\u001b[39m\u001b[39m.\u001b[39mitems]\n",
            "File \u001b[0;32m~/Documents/IllinoisTech/CS522/Project/local/cs522/lib/python3.10/site-packages/sklearn/utils/parallel.py:123\u001b[0m, in \u001b[0;36m_FuncWrapper.__call__\u001b[0;34m(self, *args, **kwargs)\u001b[0m\n\u001b[1;32m    121\u001b[0m     config \u001b[39m=\u001b[39m {}\n\u001b[1;32m    122\u001b[0m \u001b[39mwith\u001b[39;00m config_context(\u001b[39m*\u001b[39m\u001b[39m*\u001b[39mconfig):\n\u001b[0;32m--> 123\u001b[0m     \u001b[39mreturn\u001b[39;00m \u001b[39mself\u001b[39;49m\u001b[39m.\u001b[39;49mfunction(\u001b[39m*\u001b[39;49margs, \u001b[39m*\u001b[39;49m\u001b[39m*\u001b[39;49mkwargs)\n",
            "File \u001b[0;32m~/Documents/IllinoisTech/CS522/Project/local/cs522/lib/python3.10/site-packages/sklearn/model_selection/_validation.py:674\u001b[0m, in \u001b[0;36m_fit_and_score\u001b[0;34m(estimator, X, y, scorer, train, test, verbose, parameters, fit_params, return_train_score, return_parameters, return_n_test_samples, return_times, return_estimator, split_progress, candidate_progress, error_score)\u001b[0m\n\u001b[1;32m    671\u001b[0m     \u001b[39mfor\u001b[39;00m k, v \u001b[39min\u001b[39;00m parameters\u001b[39m.\u001b[39mitems():\n\u001b[1;32m    672\u001b[0m         cloned_parameters[k] \u001b[39m=\u001b[39m clone(v, safe\u001b[39m=\u001b[39m\u001b[39mFalse\u001b[39;00m)\n\u001b[0;32m--> 674\u001b[0m     estimator \u001b[39m=\u001b[39m estimator\u001b[39m.\u001b[39;49mset_params(\u001b[39m*\u001b[39;49m\u001b[39m*\u001b[39;49mcloned_parameters)\n\u001b[1;32m    676\u001b[0m start_time \u001b[39m=\u001b[39m time\u001b[39m.\u001b[39mtime()\n\u001b[1;32m    678\u001b[0m X_train, y_train \u001b[39m=\u001b[39m _safe_split(estimator, X, y, train)\n",
            "File \u001b[0;32m~/Documents/IllinoisTech/CS522/Project/local/cs522/lib/python3.10/site-packages/sklearn/pipeline.py:211\u001b[0m, in \u001b[0;36mPipeline.set_params\u001b[0;34m(self, **kwargs)\u001b[0m\n\u001b[1;32m    192\u001b[0m \u001b[39mdef\u001b[39;00m \u001b[39mset_params\u001b[39m(\u001b[39mself\u001b[39m, \u001b[39m*\u001b[39m\u001b[39m*\u001b[39mkwargs):\n\u001b[1;32m    193\u001b[0m \u001b[39m    \u001b[39m\u001b[39m\"\"\"Set the parameters of this estimator.\u001b[39;00m\n\u001b[1;32m    194\u001b[0m \n\u001b[1;32m    195\u001b[0m \u001b[39m    Valid parameter keys can be listed with ``get_params()``. Note that\u001b[39;00m\n\u001b[0;32m   (...)\u001b[0m\n\u001b[1;32m    209\u001b[0m \u001b[39m        Pipeline class instance.\u001b[39;00m\n\u001b[1;32m    210\u001b[0m \u001b[39m    \"\"\"\u001b[39;00m\n\u001b[0;32m--> 211\u001b[0m     \u001b[39mself\u001b[39;49m\u001b[39m.\u001b[39;49m_set_params(\u001b[39m\"\u001b[39;49m\u001b[39msteps\u001b[39;49m\u001b[39m\"\u001b[39;49m, \u001b[39m*\u001b[39;49m\u001b[39m*\u001b[39;49mkwargs)\n\u001b[1;32m    212\u001b[0m     \u001b[39mreturn\u001b[39;00m \u001b[39mself\u001b[39m\n",
            "File \u001b[0;32m~/Documents/IllinoisTech/CS522/Project/local/cs522/lib/python3.10/site-packages/sklearn/utils/metaestimators.py:70\u001b[0m, in \u001b[0;36m_BaseComposition._set_params\u001b[0;34m(self, attr, **params)\u001b[0m\n\u001b[1;32m     67\u001b[0m                 \u001b[39mself\u001b[39m\u001b[39m.\u001b[39m_replace_estimator(attr, name, params\u001b[39m.\u001b[39mpop(name))\n\u001b[1;32m     69\u001b[0m \u001b[39m# 3. Step parameters and other initialisation arguments\u001b[39;00m\n\u001b[0;32m---> 70\u001b[0m \u001b[39msuper\u001b[39;49m()\u001b[39m.\u001b[39;49mset_params(\u001b[39m*\u001b[39;49m\u001b[39m*\u001b[39;49mparams)\n\u001b[1;32m     71\u001b[0m \u001b[39mreturn\u001b[39;00m \u001b[39mself\u001b[39m\n",
            "File \u001b[0;32m~/Documents/IllinoisTech/CS522/Project/local/cs522/lib/python3.10/site-packages/sklearn/base.py:205\u001b[0m, in \u001b[0;36mBaseEstimator.set_params\u001b[0;34m(self, **params)\u001b[0m\n\u001b[1;32m    203\u001b[0m \u001b[39mif\u001b[39;00m key \u001b[39mnot\u001b[39;00m \u001b[39min\u001b[39;00m valid_params:\n\u001b[1;32m    204\u001b[0m     local_valid_params \u001b[39m=\u001b[39m \u001b[39mself\u001b[39m\u001b[39m.\u001b[39m_get_param_names()\n\u001b[0;32m--> 205\u001b[0m     \u001b[39mraise\u001b[39;00m \u001b[39mValueError\u001b[39;00m(\n\u001b[1;32m    206\u001b[0m         \u001b[39mf\u001b[39m\u001b[39m\"\u001b[39m\u001b[39mInvalid parameter \u001b[39m\u001b[39m{\u001b[39;00mkey\u001b[39m!r}\u001b[39;00m\u001b[39m for estimator \u001b[39m\u001b[39m{\u001b[39;00m\u001b[39mself\u001b[39m\u001b[39m}\u001b[39;00m\u001b[39m. \u001b[39m\u001b[39m\"\u001b[39m\n\u001b[1;32m    207\u001b[0m         \u001b[39mf\u001b[39m\u001b[39m\"\u001b[39m\u001b[39mValid parameters are: \u001b[39m\u001b[39m{\u001b[39;00mlocal_valid_params\u001b[39m!r}\u001b[39;00m\u001b[39m.\u001b[39m\u001b[39m\"\u001b[39m\n\u001b[1;32m    208\u001b[0m     )\n\u001b[1;32m    210\u001b[0m \u001b[39mif\u001b[39;00m delim:\n\u001b[1;32m    211\u001b[0m     nested_params[key][sub_key] \u001b[39m=\u001b[39m value\n",
            "\u001b[0;31mValueError\u001b[0m: Invalid parameter 'C' for estimator Pipeline(steps=[('tfidf', TfidfVectorizer()), ('clf', LogisticRegression())]). Valid parameters are: ['memory', 'steps', 'verbose']."
          ]
        }
      ],
      "source": [
        "'''\n",
        "Training the Logistic Regression classifier\n",
        "Author: Remy\n",
        "'''\n",
        "\n",
        "vectoriser_logit = TfidfVectorizer(ngram_range=(1,4))\n",
        "\n",
        "x_train_logit = vectoriser_logit.fit_transform(x_train)\n",
        "x_test_logit = vectoriser_logit.transform(x_test)\n",
        "\n",
        "params_logit = {\n",
        "    'l1_ratio': np.logspace(-4, 0, 3), \n",
        "    'C': np.logspace(-2, 1, 4), \n",
        "    'class_weight': ['balanced', '']\n",
        "    }\n",
        "\n",
        "grid_logit = GridSearchCV(\n",
        "    LOGIT(), \n",
        "    param_grid=params_logit, \n",
        "    scoring='f1_micro', \n",
        "    cv=3,\n",
        "    n_jobs=-1\n",
        "    )\n",
        "\n",
        "grid_logit.fit(x_train_logit, y_train)\n",
        "\n",
        "print(grid_logit.best_params_)\n",
        "print(grid_logit.score(x_test_logit,y_test))\n",
        "\n",
        "predictions_logit = grid_logit.predict(x_test)"
      ]
    },
    {
      "cell_type": "code",
      "execution_count": null,
      "metadata": {
        "id": "YVMN8OG9YLtk"
      },
      "outputs": [],
      "source": [
        "# BERT classifer"
      ]
    },
    {
      "cell_type": "code",
      "execution_count": null,
      "metadata": {
        "colab": {
          "base_uri": "https://localhost:8080/",
          "height": 127,
          "referenced_widgets": [
            "db2c1a6d03d142899b93c213e4791b0a",
            "c3a10a7c38b44078ae241e2d661c9c4e",
            "83b0717ec0c640c5ab1583624414f22a",
            "103fe2a4e6ce4741b31502f833065b2b",
            "44469399869e42fb898ecd4950149c32",
            "8502fe814e18400d9bb8af914126b50e",
            "8bc65701da0b42a5b9a9a0c37c118186",
            "cddcf318064048959f4385b1615a0b07",
            "0ba964d6dbcd40c4835067a81dc73e36",
            "5a1551ea18224c778e1142d29074590f",
            "d108b4681550454f914970a9673341a1",
            "c3aaee58b5b043c4b19cffb5ee6a7e9d",
            "63352e32349041ac921241c4c97f730d",
            "964fb375987f4f429022d8544c746701",
            "8a82d7cae9c9412f9234de256feed0cd",
            "aa49760fe8294227bc1890934daba83a",
            "3f02e1188f4f401b9867218768292b14",
            "8de26de32b8c4c88a1587b8a2e969314",
            "5809811edd1546ae9f6579bdff12e1bb",
            "eff634cf1cab40e7b2ffd51fb51bc659",
            "5013ff3053254da0b2d940c664118336",
            "fe60ef9677d84066a68f00f80c109a51"
          ]
        },
        "id": "m3BS9Mz1YOVz",
        "outputId": "d5cf14ec-635a-4cfd-86ac-065cbc7b1015"
      },
      "outputs": [
        {
          "name": "stderr",
          "output_type": "stream",
          "text": [
            "/Users/nagasurya/Documents/IllinoisTech/CS522/Project/local/cs522/lib/python3.10/site-packages/tqdm/auto.py:21: TqdmWarning: IProgress not found. Please update jupyter and ipywidgets. See https://ipywidgets.readthedocs.io/en/stable/user_install.html\n",
            "  from .autonotebook import tqdm as notebook_tqdm\n",
            "Downloading (…)lve/main/config.json: 100%|██████████| 481/481 [00:00<00:00, 161kB/s]\n",
            "Downloading pytorch_model.bin: 100%|██████████| 501M/501M [00:10<00:00, 49.4MB/s] \n",
            "Some weights of the model checkpoint at roberta-base were not used when initializing RobertaForSequenceClassification: ['lm_head.bias', 'lm_head.dense.bias', 'roberta.pooler.dense.bias', 'lm_head.decoder.weight', 'lm_head.dense.weight', 'roberta.pooler.dense.weight', 'lm_head.layer_norm.bias', 'lm_head.layer_norm.weight']\n",
            "- This IS expected if you are initializing RobertaForSequenceClassification from the checkpoint of a model trained on another task or with another architecture (e.g. initializing a BertForSequenceClassification model from a BertForPreTraining model).\n",
            "- This IS NOT expected if you are initializing RobertaForSequenceClassification from the checkpoint of a model that you expect to be exactly identical (initializing a BertForSequenceClassification model from a BertForSequenceClassification model).\n",
            "Some weights of RobertaForSequenceClassification were not initialized from the model checkpoint at roberta-base and are newly initialized: ['classifier.dense.bias', 'classifier.out_proj.weight', 'classifier.dense.weight', 'classifier.out_proj.bias']\n",
            "You should probably TRAIN this model on a down-stream task to be able to use it for predictions and inference.\n",
            "Downloading (…)olve/main/vocab.json: 100%|██████████| 899k/899k [00:00<00:00, 9.47MB/s]\n",
            "Downloading (…)olve/main/merges.txt: 100%|██████████| 456k/456k [00:00<00:00, 8.73MB/s]\n",
            "Downloading (…)/main/tokenizer.json: 100%|██████████| 1.36M/1.36M [00:00<00:00, 15.0MB/s]\n",
            "                                                                    \r"
          ]
        }
      ],
      "source": [
        "#omer\n",
        "# Roberta classsifier\n",
        "from transformers import RobertaTokenizerFast, RobertaForSequenceClassification,Trainer, TrainingArguments\n",
        "from datasets import Dataset, DatasetDict\n",
        "\n",
        "model = RobertaForSequenceClassification.from_pretrained('roberta-base', num_labels=5)\n",
        "tokenizer = RobertaTokenizerFast.from_pretrained('roberta-base', max_length = 512)\n",
        "\n",
        "def tokenization(batched_text):\n",
        "  return tokenizer(batched_text['text'], padding = \"max_length\", truncation=True)\n",
        "\n",
        "train_df[\"label\"] = train_df[\"target\"]\n",
        "test_df[\"label\"] = test_df[\"target\"]\n",
        "train_dataset_roberta = Dataset.from_pandas(train_df[[\"label\", \"text\"]])\n",
        "test_dataset_roberta = Dataset.from_pandas(test_df[[\"label\", \"text\"]])\n",
        "\n",
        "dataset_roberta = DatasetDict()\n",
        "dataset_roberta['train'] = train_dataset_roberta\n",
        "dataset_roberta['test'] = test_dataset_roberta\n",
        "tokenized_datasets = dataset_roberta.map(tokenization, batched=True)"
      ]
    },
    {
      "cell_type": "code",
      "execution_count": null,
      "metadata": {
        "colab": {
          "base_uri": "https://localhost:8080/",
          "height": 526
        },
        "id": "Kp_-SM6FXxY1",
        "outputId": "d2734309-cd05-4944-f3a4-b473c8f21da7"
      },
      "outputs": [
        {
          "name": "stderr",
          "output_type": "stream",
          "text": [
            "/Users/nagasurya/Documents/IllinoisTech/CS522/Project/local/cs522/lib/python3.10/site-packages/transformers/optimization.py:391: FutureWarning: This implementation of AdamW is deprecated and will be removed in a future version. Use the PyTorch implementation torch.optim.AdamW instead, or set `no_deprecation_warning=True` to disable this warning\n",
            "  warnings.warn(\n",
            "  0%|          | 29/23790 [05:09<67:02:18, 10.16s/it]"
          ]
        },
        {
          "ename": "KeyboardInterrupt",
          "evalue": "",
          "output_type": "error",
          "traceback": [
            "\u001b[0;31m---------------------------------------------------------------------------\u001b[0m",
            "\u001b[0;31mKeyboardInterrupt\u001b[0m                         Traceback (most recent call last)",
            "Cell \u001b[0;32mIn[18], line 15\u001b[0m\n\u001b[1;32m      6\u001b[0m   \u001b[39mreturn\u001b[39;00m metric\u001b[39m.\u001b[39mcompute(predictions\u001b[39m=\u001b[39mpredictions, references\u001b[39m=\u001b[39mlabels)\n\u001b[1;32m      8\u001b[0m trainer \u001b[39m=\u001b[39m Trainer(\n\u001b[1;32m      9\u001b[0m     model\u001b[39m=\u001b[39mmodel,\n\u001b[1;32m     10\u001b[0m     train_dataset\u001b[39m=\u001b[39mtokenized_datasets[\u001b[39m\"\u001b[39m\u001b[39mtrain\u001b[39m\u001b[39m\"\u001b[39m],\n\u001b[1;32m     11\u001b[0m     eval_dataset\u001b[39m=\u001b[39mtokenized_datasets[\u001b[39m\"\u001b[39m\u001b[39mtest\u001b[39m\u001b[39m\"\u001b[39m],\n\u001b[1;32m     12\u001b[0m     compute_metrics\u001b[39m=\u001b[39mcompute_metrics,\n\u001b[1;32m     13\u001b[0m )\n\u001b[0;32m---> 15\u001b[0m trainer\u001b[39m.\u001b[39;49mtrain()\n",
            "File \u001b[0;32m~/Documents/IllinoisTech/CS522/Project/local/cs522/lib/python3.10/site-packages/transformers/trainer.py:1662\u001b[0m, in \u001b[0;36mTrainer.train\u001b[0;34m(self, resume_from_checkpoint, trial, ignore_keys_for_eval, **kwargs)\u001b[0m\n\u001b[1;32m   1657\u001b[0m     \u001b[39mself\u001b[39m\u001b[39m.\u001b[39mmodel_wrapped \u001b[39m=\u001b[39m \u001b[39mself\u001b[39m\u001b[39m.\u001b[39mmodel\n\u001b[1;32m   1659\u001b[0m inner_training_loop \u001b[39m=\u001b[39m find_executable_batch_size(\n\u001b[1;32m   1660\u001b[0m     \u001b[39mself\u001b[39m\u001b[39m.\u001b[39m_inner_training_loop, \u001b[39mself\u001b[39m\u001b[39m.\u001b[39m_train_batch_size, args\u001b[39m.\u001b[39mauto_find_batch_size\n\u001b[1;32m   1661\u001b[0m )\n\u001b[0;32m-> 1662\u001b[0m \u001b[39mreturn\u001b[39;00m inner_training_loop(\n\u001b[1;32m   1663\u001b[0m     args\u001b[39m=\u001b[39;49margs,\n\u001b[1;32m   1664\u001b[0m     resume_from_checkpoint\u001b[39m=\u001b[39;49mresume_from_checkpoint,\n\u001b[1;32m   1665\u001b[0m     trial\u001b[39m=\u001b[39;49mtrial,\n\u001b[1;32m   1666\u001b[0m     ignore_keys_for_eval\u001b[39m=\u001b[39;49mignore_keys_for_eval,\n\u001b[1;32m   1667\u001b[0m )\n",
            "File \u001b[0;32m~/Documents/IllinoisTech/CS522/Project/local/cs522/lib/python3.10/site-packages/transformers/trainer.py:1929\u001b[0m, in \u001b[0;36mTrainer._inner_training_loop\u001b[0;34m(self, batch_size, args, resume_from_checkpoint, trial, ignore_keys_for_eval)\u001b[0m\n\u001b[1;32m   1927\u001b[0m         tr_loss_step \u001b[39m=\u001b[39m \u001b[39mself\u001b[39m\u001b[39m.\u001b[39mtraining_step(model, inputs)\n\u001b[1;32m   1928\u001b[0m \u001b[39melse\u001b[39;00m:\n\u001b[0;32m-> 1929\u001b[0m     tr_loss_step \u001b[39m=\u001b[39m \u001b[39mself\u001b[39;49m\u001b[39m.\u001b[39;49mtraining_step(model, inputs)\n\u001b[1;32m   1931\u001b[0m \u001b[39mif\u001b[39;00m (\n\u001b[1;32m   1932\u001b[0m     args\u001b[39m.\u001b[39mlogging_nan_inf_filter\n\u001b[1;32m   1933\u001b[0m     \u001b[39mand\u001b[39;00m \u001b[39mnot\u001b[39;00m is_torch_tpu_available()\n\u001b[1;32m   1934\u001b[0m     \u001b[39mand\u001b[39;00m (torch\u001b[39m.\u001b[39misnan(tr_loss_step) \u001b[39mor\u001b[39;00m torch\u001b[39m.\u001b[39misinf(tr_loss_step))\n\u001b[1;32m   1935\u001b[0m ):\n\u001b[1;32m   1936\u001b[0m     \u001b[39m# if loss is nan or inf simply add the average of previous logged losses\u001b[39;00m\n\u001b[1;32m   1937\u001b[0m     tr_loss \u001b[39m+\u001b[39m\u001b[39m=\u001b[39m tr_loss \u001b[39m/\u001b[39m (\u001b[39m1\u001b[39m \u001b[39m+\u001b[39m \u001b[39mself\u001b[39m\u001b[39m.\u001b[39mstate\u001b[39m.\u001b[39mglobal_step \u001b[39m-\u001b[39m \u001b[39mself\u001b[39m\u001b[39m.\u001b[39m_globalstep_last_logged)\n",
            "File \u001b[0;32m~/Documents/IllinoisTech/CS522/Project/local/cs522/lib/python3.10/site-packages/transformers/trainer.py:2717\u001b[0m, in \u001b[0;36mTrainer.training_step\u001b[0;34m(self, model, inputs)\u001b[0m\n\u001b[1;32m   2715\u001b[0m     loss \u001b[39m=\u001b[39m \u001b[39mself\u001b[39m\u001b[39m.\u001b[39mdeepspeed\u001b[39m.\u001b[39mbackward(loss)\n\u001b[1;32m   2716\u001b[0m \u001b[39melse\u001b[39;00m:\n\u001b[0;32m-> 2717\u001b[0m     loss\u001b[39m.\u001b[39;49mbackward()\n\u001b[1;32m   2719\u001b[0m \u001b[39mreturn\u001b[39;00m loss\u001b[39m.\u001b[39mdetach()\n",
            "File \u001b[0;32m~/Documents/IllinoisTech/CS522/Project/local/cs522/lib/python3.10/site-packages/torch/_tensor.py:487\u001b[0m, in \u001b[0;36mTensor.backward\u001b[0;34m(self, gradient, retain_graph, create_graph, inputs)\u001b[0m\n\u001b[1;32m    477\u001b[0m \u001b[39mif\u001b[39;00m has_torch_function_unary(\u001b[39mself\u001b[39m):\n\u001b[1;32m    478\u001b[0m     \u001b[39mreturn\u001b[39;00m handle_torch_function(\n\u001b[1;32m    479\u001b[0m         Tensor\u001b[39m.\u001b[39mbackward,\n\u001b[1;32m    480\u001b[0m         (\u001b[39mself\u001b[39m,),\n\u001b[0;32m   (...)\u001b[0m\n\u001b[1;32m    485\u001b[0m         inputs\u001b[39m=\u001b[39minputs,\n\u001b[1;32m    486\u001b[0m     )\n\u001b[0;32m--> 487\u001b[0m torch\u001b[39m.\u001b[39;49mautograd\u001b[39m.\u001b[39;49mbackward(\n\u001b[1;32m    488\u001b[0m     \u001b[39mself\u001b[39;49m, gradient, retain_graph, create_graph, inputs\u001b[39m=\u001b[39;49minputs\n\u001b[1;32m    489\u001b[0m )\n",
            "File \u001b[0;32m~/Documents/IllinoisTech/CS522/Project/local/cs522/lib/python3.10/site-packages/torch/autograd/__init__.py:200\u001b[0m, in \u001b[0;36mbackward\u001b[0;34m(tensors, grad_tensors, retain_graph, create_graph, grad_variables, inputs)\u001b[0m\n\u001b[1;32m    195\u001b[0m     retain_graph \u001b[39m=\u001b[39m create_graph\n\u001b[1;32m    197\u001b[0m \u001b[39m# The reason we repeat same the comment below is that\u001b[39;00m\n\u001b[1;32m    198\u001b[0m \u001b[39m# some Python versions print out the first line of a multi-line function\u001b[39;00m\n\u001b[1;32m    199\u001b[0m \u001b[39m# calls in the traceback and some print out the last line\u001b[39;00m\n\u001b[0;32m--> 200\u001b[0m Variable\u001b[39m.\u001b[39;49m_execution_engine\u001b[39m.\u001b[39;49mrun_backward(  \u001b[39m# Calls into the C++ engine to run the backward pass\u001b[39;49;00m\n\u001b[1;32m    201\u001b[0m     tensors, grad_tensors_, retain_graph, create_graph, inputs,\n\u001b[1;32m    202\u001b[0m     allow_unreachable\u001b[39m=\u001b[39;49m\u001b[39mTrue\u001b[39;49;00m, accumulate_grad\u001b[39m=\u001b[39;49m\u001b[39mTrue\u001b[39;49;00m)\n",
            "\u001b[0;31mKeyboardInterrupt\u001b[0m: "
          ]
        }
      ],
      "source": [
        "#omer\n",
        "def compute_metrics(eval_pred):\n",
        "  metric = evaluate.load(\"f1\")\n",
        "  logits, labels = eval_pred\n",
        "  predictions = np.argmax(logits, axis=-1)\n",
        "  return metric.compute(predictions=predictions, references=labels)\n",
        "\n",
        "trainer = Trainer(\n",
        "    model=model,\n",
        "    train_dataset=tokenized_datasets[\"train\"],\n",
        "    eval_dataset=tokenized_datasets[\"test\"],\n",
        "    compute_metrics=compute_metrics,\n",
        ")\n",
        "\n",
        "trainer.train()"
      ]
    },
    {
      "cell_type": "markdown",
      "metadata": {
        "id": "nVhDJRYEjEdu"
      },
      "source": [
        "# 1.3 Evaluation and F1\n",
        "Type code for this section below.\n",
        "\n",
        "Requirements:\n",
        "\n",
        "1.3.1 Provide a brief definition of the F1 score, explain briefly how you computed it. If\n",
        "you use Wikipedia or any other resource for the definition of the F1 score,\n",
        "provide the citation.\n",
        "\n",
        "1.3.2 Summarize your results in a table"
      ]
    },
    {
      "cell_type": "markdown",
      "metadata": {
        "id": "7twCks7NLWlw"
      },
      "source": [
        "F1 score is best defined as the harmonic mean of the precision and recall of a model, where precision is the ratio of true positives to retreived elements and recall is the ratio of true positives to relevant elements. It can also be defined as F1 = 2 tp / (2 tp + fp + fn)."
      ]
    },
    {
      "cell_type": "code",
      "execution_count": null,
      "metadata": {
        "colab": {
          "base_uri": "https://localhost:8080/",
          "height": 236
        },
        "id": "aEdGNbnwKGFB",
        "outputId": "688e5387-eca2-484e-f3bc-ec2356ccfe8c"
      },
      "outputs": [
        {
          "ename": "NameError",
          "evalue": "ignored",
          "output_type": "error",
          "traceback": [
            "\u001b[0;31m---------------------------------------------------------------------------\u001b[0m",
            "\u001b[0;31mNameError\u001b[0m                                 Traceback (most recent call last)",
            "\u001b[0;32m<ipython-input-13-66f446a68ba8>\u001b[0m in \u001b[0;36m<cell line: 2>\u001b[0;34m()\u001b[0m\n\u001b[1;32m      1\u001b[0m \u001b[0;31m#remy\u001b[0m\u001b[0;34m\u001b[0m\u001b[0;34m\u001b[0m\u001b[0m\n\u001b[0;32m----> 2\u001b[0;31m \u001b[0mmodel_predictions\u001b[0m \u001b[0;34m=\u001b[0m \u001b[0;34m[\u001b[0m\u001b[0mpredictions\u001b[0m\u001b[0;34m,\u001b[0m \u001b[0mlogit_predictions\u001b[0m\u001b[0;34m]\u001b[0m\u001b[0;34m\u001b[0m\u001b[0;34m\u001b[0m\u001b[0m\n\u001b[0m\u001b[1;32m      3\u001b[0m \u001b[0mmodel_names\u001b[0m \u001b[0;34m=\u001b[0m \u001b[0;34m[\u001b[0m\u001b[0;34m\"Linear SVC\"\u001b[0m\u001b[0;34m,\u001b[0m \u001b[0;34m\"Logistic Regression\"\u001b[0m\u001b[0;34m]\u001b[0m\u001b[0;34m\u001b[0m\u001b[0;34m\u001b[0m\u001b[0m\n\u001b[1;32m      4\u001b[0m \u001b[0mF1scores\u001b[0m \u001b[0;34m=\u001b[0m \u001b[0;34m[\u001b[0m\u001b[0;34m]\u001b[0m\u001b[0;34m\u001b[0m\u001b[0;34m\u001b[0m\u001b[0m\n\u001b[1;32m      5\u001b[0m \u001b[0;32mfor\u001b[0m \u001b[0mmodel_prediction\u001b[0m \u001b[0;32min\u001b[0m \u001b[0mmodel_predictions\u001b[0m\u001b[0;34m:\u001b[0m\u001b[0;34m\u001b[0m\u001b[0;34m\u001b[0m\u001b[0m\n",
            "\u001b[0;31mNameError\u001b[0m: name 'logit_predictions' is not defined"
          ]
        }
      ],
      "source": [
        "'''\n",
        "Display F1 Score Table\n",
        "Author: Remy Siminel\n",
        "'''\n",
        "model_predictions = [predictions, predictions_logit]\n",
        "model_names = [\"Linear SVC\", \"Logistic Regression\"]\n",
        "F1scores = []\n",
        "for model_prediction in model_predictions:\n",
        "  F1_scores.append(metrics.f1_score(y_test, model_prediction))"
      ]
    },
    {
      "cell_type": "markdown",
      "metadata": {},
      "source": [
        "# Section 2 - Bias Measuring and Evaluation"
      ]
    },
    {
      "cell_type": "markdown",
      "metadata": {},
      "source": [
        "\n",
        "2.1 Read paper https://aclanthology.org/S18-2005.pdf, page 5 how they measured bias in their study.\n",
        "\n",
        "2.2 Provide details on the EEC data set that you use for bias evaluations. Do not repeat everything from the paper, provide a brief summary in your own words.\n",
        "\n",
        "2.3 Use the same approach, provide details in your own words.\n",
        "\n",
        "2.4 Provide the details on how the bias measure is calculated. Do not copy everything from the paper. Provide a brief summary and reference corresponding sections in the paper.\n",
        "\n",
        "2.5 Summarize the results of bias measure for reach test and for each of your classifiers. Use a table to present your results. "
      ]
    },
    {
      "cell_type": "code",
      "execution_count": null,
      "metadata": {},
      "outputs": [
        {
          "data": {
            "text/html": [
              "<div>\n",
              "<style scoped>\n",
              "    .dataframe tbody tr th:only-of-type {\n",
              "        vertical-align: middle;\n",
              "    }\n",
              "\n",
              "    .dataframe tbody tr th {\n",
              "        vertical-align: top;\n",
              "    }\n",
              "\n",
              "    .dataframe thead th {\n",
              "        text-align: right;\n",
              "    }\n",
              "</style>\n",
              "<table border=\"1\" class=\"dataframe\">\n",
              "  <thead>\n",
              "    <tr style=\"text-align: right;\">\n",
              "      <th></th>\n",
              "      <th>ID</th>\n",
              "      <th>Sentence</th>\n",
              "      <th>Template</th>\n",
              "      <th>Person</th>\n",
              "      <th>Gender</th>\n",
              "      <th>Race</th>\n",
              "      <th>Emotion</th>\n",
              "      <th>Emotion word</th>\n",
              "    </tr>\n",
              "  </thead>\n",
              "  <tbody>\n",
              "    <tr>\n",
              "      <th>count</th>\n",
              "      <td>8640</td>\n",
              "      <td>8640</td>\n",
              "      <td>8640</td>\n",
              "      <td>8640</td>\n",
              "      <td>8640</td>\n",
              "      <td>5760</td>\n",
              "      <td>8400</td>\n",
              "      <td>8400</td>\n",
              "    </tr>\n",
              "    <tr>\n",
              "      <th>unique</th>\n",
              "      <td>8640</td>\n",
              "      <td>8640</td>\n",
              "      <td>11</td>\n",
              "      <td>62</td>\n",
              "      <td>2</td>\n",
              "      <td>2</td>\n",
              "      <td>4</td>\n",
              "      <td>40</td>\n",
              "    </tr>\n",
              "    <tr>\n",
              "      <th>top</th>\n",
              "      <td>2018-En-mystery-05498</td>\n",
              "      <td>Alonzo feels angry.</td>\n",
              "      <td>&lt;person subject&gt; feels &lt;emotion word&gt;.</td>\n",
              "      <td>Alonzo</td>\n",
              "      <td>male</td>\n",
              "      <td>African-American</td>\n",
              "      <td>anger</td>\n",
              "      <td>angry</td>\n",
              "    </tr>\n",
              "    <tr>\n",
              "      <th>freq</th>\n",
              "      <td>1</td>\n",
              "      <td>1</td>\n",
              "      <td>1200</td>\n",
              "      <td>144</td>\n",
              "      <td>4320</td>\n",
              "      <td>2880</td>\n",
              "      <td>2100</td>\n",
              "      <td>240</td>\n",
              "    </tr>\n",
              "  </tbody>\n",
              "</table>\n",
              "</div>"
            ],
            "text/plain": [
              "                           ID             Sentence   \n",
              "count                    8640                 8640  \\\n",
              "unique                   8640                 8640   \n",
              "top     2018-En-mystery-05498  Alonzo feels angry.   \n",
              "freq                        1                    1   \n",
              "\n",
              "                                      Template  Person Gender   \n",
              "count                                     8640    8640   8640  \\\n",
              "unique                                      11      62      2   \n",
              "top     <person subject> feels <emotion word>.  Alonzo   male   \n",
              "freq                                      1200     144   4320   \n",
              "\n",
              "                    Race Emotion Emotion word  \n",
              "count               5760    8400         8400  \n",
              "unique                 2       4           40  \n",
              "top     African-American   anger        angry  \n",
              "freq                2880    2100          240  "
            ]
          },
          "execution_count": 20,
          "metadata": {},
          "output_type": "execute_result"
        }
      ],
      "source": [
        "# Bias measurement\n",
        "# NAME: Naga Surya Suresh\n",
        "\n",
        "eec_raw = pd.read_csv(\"data/Equity-Evaluation-Corpus.csv\")\n",
        "eec_raw.describe()"
      ]
    },
    {
      "cell_type": "markdown",
      "metadata": {},
      "source": [
        "## Data analysis"
      ]
    },
    {
      "cell_type": "code",
      "execution_count": null,
      "metadata": {},
      "outputs": [
        {
          "data": {
            "text/plain": [
              "ID                 0\n",
              "Sentence           0\n",
              "Template           0\n",
              "Person             0\n",
              "Gender             0\n",
              "Race            2880\n",
              "Emotion          240\n",
              "Emotion word     240\n",
              "dtype: int64"
            ]
          },
          "execution_count": 21,
          "metadata": {},
          "output_type": "execute_result"
        }
      ],
      "source": [
        "eec_raw.isna().sum()"
      ]
    },
    {
      "cell_type": "markdown",
      "metadata": {},
      "source": [
        "We see that for few rows have null entries for emotion, we would remove this so, the model has right data to predict. "
      ]
    },
    {
      "cell_type": "code",
      "execution_count": null,
      "metadata": {},
      "outputs": [
        {
          "data": {
            "text/plain": [
              "0"
            ]
          },
          "execution_count": 22,
          "metadata": {},
          "output_type": "execute_result"
        }
      ],
      "source": [
        "eec_data = eec_raw[eec_raw.Emotion.notna()]\n",
        "eec_data.Emotion.isna().sum()"
      ]
    },
    {
      "cell_type": "code",
      "execution_count": null,
      "metadata": {},
      "outputs": [
        {
          "name": "stdout",
          "output_type": "stream",
          "text": [
            "huggingface/tokenizers: The current process just got forked, after parallelism has already been used. Disabling parallelism to avoid deadlocks...\n",
            "To disable this warning, you can either:\n",
            "\t- Avoid using `tokenizers` before the fork if possible\n",
            "\t- Explicitly set the environment variable TOKENIZERS_PARALLELISM=(true | false)\n",
            "huggingface/tokenizers: The current process just got forked, after parallelism has already been used. Disabling parallelism to avoid deadlocks...\n",
            "To disable this warning, you can either:\n",
            "\t- Avoid using `tokenizers` before the fork if possible\n",
            "\t- Explicitly set the environment variable TOKENIZERS_PARALLELISM=(true | false)\n"
          ]
        },
        {
          "data": {
            "image/png": "[encoded data removed]",
            "text/plain": [
              "<Figure size 640x480 with 1 Axes>"
            ]
          },
          "metadata": {},
          "output_type": "display_data"
        },
        {
          "data": {
            "text/plain": [
              "<Axes: xlabel='Samples', ylabel='Counts'>"
            ]
          },
          "execution_count": 23,
          "metadata": {},
          "output_type": "execute_result"
        }
      ],
      "source": [
        "from nltk.probability import FreqDist\n",
        "FreqDist(eec_data[\"Emotion word\"]).plot()\n"
      ]
    },
    {
      "cell_type": "code",
      "execution_count": null,
      "metadata": {},
      "outputs": [
        {
          "data": {
            "text/html": [
              "<div>\n",
              "<style scoped>\n",
              "    .dataframe tbody tr th:only-of-type {\n",
              "        vertical-align: middle;\n",
              "    }\n",
              "\n",
              "    .dataframe tbody tr th {\n",
              "        vertical-align: top;\n",
              "    }\n",
              "\n",
              "    .dataframe thead th {\n",
              "        text-align: right;\n",
              "    }\n",
              "</style>\n",
              "<table border=\"1\" class=\"dataframe\">\n",
              "  <thead>\n",
              "    <tr style=\"text-align: right;\">\n",
              "      <th></th>\n",
              "      <th>0</th>\n",
              "    </tr>\n",
              "  </thead>\n",
              "  <tbody>\n",
              "    <tr>\n",
              "      <th>0</th>\n",
              "      <td>anger</td>\n",
              "    </tr>\n",
              "    <tr>\n",
              "      <th>1</th>\n",
              "      <td>sadness</td>\n",
              "    </tr>\n",
              "    <tr>\n",
              "      <th>2</th>\n",
              "      <td>fear</td>\n",
              "    </tr>\n",
              "    <tr>\n",
              "      <th>3</th>\n",
              "      <td>joy</td>\n",
              "    </tr>\n",
              "  </tbody>\n",
              "</table>\n",
              "</div>"
            ],
            "text/plain": [
              "         0\n",
              "0    anger\n",
              "1  sadness\n",
              "2     fear\n",
              "3      joy"
            ]
          },
          "execution_count": 24,
          "metadata": {},
          "output_type": "execute_result"
        }
      ],
      "source": [
        "pd.DataFrame(eec_data.Emotion.unique())"
      ]
    },
    {
      "cell_type": "code",
      "execution_count": null,
      "metadata": {},
      "outputs": [
        {
          "data": {
            "text/html": [
              "<div>\n",
              "<style scoped>\n",
              "    .dataframe tbody tr th:only-of-type {\n",
              "        vertical-align: middle;\n",
              "    }\n",
              "\n",
              "    .dataframe tbody tr th {\n",
              "        vertical-align: top;\n",
              "    }\n",
              "\n",
              "    .dataframe thead th {\n",
              "        text-align: right;\n",
              "    }\n",
              "</style>\n",
              "<table border=\"1\" class=\"dataframe\">\n",
              "  <thead>\n",
              "    <tr style=\"text-align: right;\">\n",
              "      <th></th>\n",
              "      <th>0</th>\n",
              "    </tr>\n",
              "  </thead>\n",
              "  <tbody>\n",
              "    <tr>\n",
              "      <th>0</th>\n",
              "      <td>male</td>\n",
              "    </tr>\n",
              "    <tr>\n",
              "      <th>1</th>\n",
              "      <td>female</td>\n",
              "    </tr>\n",
              "  </tbody>\n",
              "</table>\n",
              "</div>"
            ],
            "text/plain": [
              "        0\n",
              "0    male\n",
              "1  female"
            ]
          },
          "execution_count": 25,
          "metadata": {},
          "output_type": "execute_result"
        }
      ],
      "source": [
        "pd.DataFrame(eec_data.Gender.unique())"
      ]
    },
    {
      "cell_type": "code",
      "execution_count": null,
      "metadata": {},
      "outputs": [
        {
          "data": {
            "text/html": [
              "<div>\n",
              "<style scoped>\n",
              "    .dataframe tbody tr th:only-of-type {\n",
              "        vertical-align: middle;\n",
              "    }\n",
              "\n",
              "    .dataframe tbody tr th {\n",
              "        vertical-align: top;\n",
              "    }\n",
              "\n",
              "    .dataframe thead th {\n",
              "        text-align: right;\n",
              "    }\n",
              "</style>\n",
              "<table border=\"1\" class=\"dataframe\">\n",
              "  <thead>\n",
              "    <tr style=\"text-align: right;\">\n",
              "      <th></th>\n",
              "      <th>0</th>\n",
              "    </tr>\n",
              "  </thead>\n",
              "  <tbody>\n",
              "    <tr>\n",
              "      <th>0</th>\n",
              "      <td>African-American</td>\n",
              "    </tr>\n",
              "    <tr>\n",
              "      <th>1</th>\n",
              "      <td>European</td>\n",
              "    </tr>\n",
              "    <tr>\n",
              "      <th>2</th>\n",
              "      <td>NaN</td>\n",
              "    </tr>\n",
              "  </tbody>\n",
              "</table>\n",
              "</div>"
            ],
            "text/plain": [
              "                  0\n",
              "0  African-American\n",
              "1          European\n",
              "2               NaN"
            ]
          },
          "execution_count": 26,
          "metadata": {},
          "output_type": "execute_result"
        }
      ],
      "source": [
        "pd.DataFrame(eec_data.Race.unique())"
      ]
    },
    {
      "cell_type": "markdown",
      "metadata": {},
      "source": [
        "We will merge the anger, sadness and fear onto one -ve category and joy as a +ve target, this mapping will help us in getting the prediction of the twitter dataset as the models are tarined only with 2 outputs."
      ]
    },
    {
      "cell_type": "code",
      "execution_count": null,
      "metadata": {},
      "outputs": [
        {
          "data": {
            "text/plain": [
              "array([0, 4])"
            ]
          },
          "execution_count": 27,
          "metadata": {},
          "output_type": "execute_result"
        }
      ],
      "source": [
        "import numpy as np\n",
        "pd.options.mode.chained_assignment = None\n",
        "#eec_data[\"EmotionTarget\"] = eec_data.Emotion.map({'anger' : 0, 'sadness' : 0, 'fear':0, 'joy':4})\n",
        "eec_data[\"EmotionTarget\"] = np.where(eec_data.Emotion.isin(np.array(['anger', 'sadness', 'fear'])),0, 4)\n",
        "eec_data[\"EmotionTarget\"] = eec_data[\"EmotionTarget\"].astype(\"int64\")\n",
        "eec_data.EmotionTarget.unique()"
      ]
    },
    {
      "cell_type": "markdown",
      "metadata": {},
      "source": [
        "We will use this as the traget when predicting the model results"
      ]
    },
    {
      "cell_type": "markdown",
      "metadata": {},
      "source": [
        "In the EEC data, we have identified two genders (male and female), two races (African-American and European), four emotions (joy, sad, angry, and fear), and a set of 40 emotion words (e.g., love, hate, fear, etc.). We will be using these groups to evaluate the bias of our sentiment analysis models when trained on a Twitter sentiment dataset.\n",
        "\n",
        "To measure bias, we will be using three levels of comparison. The first level is when the model predicts intensity scores for female and male noun phrase sentences that are statistically similar, denoted as \"F = M no much bias\". This indicates that the model is not exhibiting a significant bias towards either gender.\n",
        "\n",
        "The second level of comparison is when the model consistently gives higher scores to sentences with female noun phrases compared to corresponding sentences with male noun phrases, denoted as \"High F - Low M\". This suggests that the model may exhibit a bias towards perceiving female-related language as more positive or negative compared to male-related language.\n",
        "\n",
        "The third level of comparison is when the model consistently gives higher scores to sentences with male noun phrases compared to corresponding sentences with female noun phrases, denoted as \"High M - Low F\". This indicates a potential bias towards perceiving male-related language as more positive or negative compared to female-related language.\n",
        "\n",
        "Also, we would build metrics similar to gender for the Race feature too. "
      ]
    },
    {
      "cell_type": "markdown",
      "metadata": {},
      "source": [
        "## Prediction with the generated models"
      ]
    },
    {
      "cell_type": "code",
      "execution_count": null,
      "metadata": {},
      "outputs": [
        {
          "name": "stdout",
          "output_type": "stream",
          "text": [
            "SVC unique:  [0 4]\n"
          ]
        }
      ],
      "source": [
        "eec_pred_svc = SVCmodel.predict(vectoriser.transform(eec_data[\"Sentence\"]))\n",
        "#eec_pred_logit  = clf_logit.predict(vectoriser.transform(eec_data[\"Sentence\"]))\n",
        "print(\"SVC unique: \", pd.unique(eec_pred_svc))\n",
        "#print(\"Logit unique: \",pd.unique(eec_pred_logit))"
      ]
    },
    {
      "cell_type": "code",
      "execution_count": null,
      "metadata": {},
      "outputs": [
        {
          "name": "stdout",
          "output_type": "stream",
          "text": [
            "0.8048535717544021\n"
          ]
        }
      ],
      "source": [
        "from sklearn.metrics import confusion_matrix, f1_score\n",
        "\n",
        "print(f1_score(eec_data.EmotionTarget, eec_pred_svc, pos_label=0))\n",
        "#print(f1_score(eec_data.EmotionTarget, eec_pred_logit, pos_label=0))"
      ]
    },
    {
      "cell_type": "code",
      "execution_count": null,
      "metadata": {},
      "outputs": [
        {
          "name": "stdout",
          "output_type": "stream",
          "text": [
            "[[4411 1889]\n",
            " [ 250 1850]]\n"
          ]
        }
      ],
      "source": [
        "\n",
        "print(confusion_matrix(eec_data.EmotionTarget, eec_pred_svc))\n",
        "#print(confusion_matrix(eec_data.EmotionTarget, eec_pred_logit))"
      ]
    },
    {
      "cell_type": "code",
      "execution_count": null,
      "metadata": {},
      "outputs": [],
      "source": [
        "'''\n",
        "Merge the results of prediction to the dataset\n",
        "'''\n",
        "eec_data[\"eec_pred_svc\"] = eec_pred_svc\n",
        "#eec_data[\"eec_pred_logit\"] = eec_pred_logit"
      ]
    },
    {
      "cell_type": "code",
      "execution_count": null,
      "metadata": {},
      "outputs": [],
      "source": [
        "eec_data_male = eec_data.loc[(eec_data.Gender == \"male\")]\n",
        "eec_data_female = eec_data.loc[(eec_data.Gender == \"female\")]\n",
        "eec_data_american = eec_data.loc[(eec_data.Race == \"African-American\")]\n",
        "eec_data_european = eec_data.loc[(eec_data.Race == \"European\")]\n"
      ]
    },
    {
      "cell_type": "code",
      "execution_count": null,
      "metadata": {},
      "outputs": [],
      "source": [
        "def calculate_F1_Diff_MnF(TrueMale, PredMale, TrueFemale, PredFemale, trueValue):\n",
        "    return f1_score(TrueMale, PredMale,pos_label=trueValue) - f1_score(TrueFemale, PredFemale,pos_label=trueValue)\n",
        "def calculate_F1_Diff_AnE(TrueA, PredA, TrueE, PredE, trueValue):\n",
        "    return f1_score(TrueA, PredA,pos_label=trueValue) - f1_score(TrueE, PredE,pos_label=trueValue)"
      ]
    },
    {
      "cell_type": "code",
      "execution_count": null,
      "metadata": {},
      "outputs": [
        {
          "data": {
            "text/plain": [
              "-0.0050327511301282435"
            ]
          },
          "execution_count": 35,
          "metadata": {},
          "output_type": "execute_result"
        }
      ],
      "source": [
        "calculate_F1_Diff_MnF(\n",
        "    eec_data_male.EmotionTarget,\n",
        "    eec_data_male.eec_pred_svc,\n",
        "    eec_data_female.EmotionTarget,\n",
        "    eec_data_female.eec_pred_svc,\n",
        "    4)"
      ]
    },
    {
      "cell_type": "code",
      "execution_count": null,
      "metadata": {},
      "outputs": [
        {
          "name": "stdout",
          "output_type": "stream",
          "text": [
            "╒═════════╤══════════════╤════════════╕\n",
            "│ Model   │      Postive │   Negative │\n",
            "╞═════════╪══════════════╪════════════╡\n",
            "│ SVC     │ -0.000893767 │  0.0139271 │\n",
            "├─────────┼──────────────┼────────────┤\n",
            "│ logit   │  0.00222685  │  0.0238122 │\n",
            "╘═════════╧══════════════╧════════════╛\n"
          ]
        }
      ],
      "source": [
        "EEC_Diff_Table_Gender = [\n",
        "    [\"Model\",\"Postive\",\"Negative\"],\n",
        "    [\"SVC\",calculate_F1_Diff_MnF(\n",
        "    eec_data_male.EmotionTarget,\n",
        "    eec_data_male.eec_pred_svc,\n",
        "    eec_data_female.EmotionTarget,\n",
        "    eec_data_female.eec_pred_svc,\n",
        "    4), calculate_F1_Diff_MnF(\n",
        "    eec_data_male.EmotionTarget,\n",
        "    eec_data_male.eec_pred_svc,\n",
        "    eec_data_female.EmotionTarget,\n",
        "    eec_data_female.eec_pred_svc,\n",
        "    0) ],\n",
        "    [\"logit\",calculate_F1_Diff_MnF(\n",
        "    eec_data_male.EmotionTarget,\n",
        "    eec_data_male.eec_pred_logit,\n",
        "    eec_data_female.EmotionTarget,\n",
        "    eec_data_female.eec_pred_logit,\n",
        "    4), calculate_F1_Diff_MnF(\n",
        "    eec_data_male.EmotionTarget,\n",
        "    eec_data_male.eec_pred_logit,\n",
        "    eec_data_female.EmotionTarget,\n",
        "    eec_data_female.eec_pred_logit,\n",
        "    0) ]\n",
        "]\n",
        "print(tabulate(EEC_Diff_Table_Gender, headers='firstrow', tablefmt='fancy_grid'))\n"
      ]
    },
    {
      "cell_type": "code",
      "execution_count": null,
      "metadata": {},
      "outputs": [
        {
          "name": "stdout",
          "output_type": "stream",
          "text": [
            "╒═════════╤════════════╤════════════╕\n",
            "│ Model   │    Postive │   Negative │\n",
            "╞═════════╪════════════╪════════════╡\n",
            "│ SVC     │ 0.0746802  │  0.0856964 │\n",
            "├─────────┼────────────┼────────────┤\n",
            "│ logit   │ 0.00468667 │  0.0300119 │\n",
            "╘═════════╧════════════╧════════════╛\n"
          ]
        }
      ],
      "source": [
        "EEC_Diff_Table_Race = [\n",
        "    [\"Model\",\"Postive\",\"Negative\"],\n",
        "    [\"SVC\",calculate_F1_Diff_AnE(\n",
        "    eec_data_american.EmotionTarget,\n",
        "    eec_data_american.eec_pred_svc,\n",
        "    eec_data_european.EmotionTarget,\n",
        "    eec_data_european.eec_pred_svc,\n",
        "    4), calculate_F1_Diff_AnE(\n",
        "    eec_data_american.EmotionTarget,\n",
        "    eec_data_american.eec_pred_svc,\n",
        "    eec_data_european.EmotionTarget,\n",
        "    eec_data_european.eec_pred_svc,\n",
        "    0) ],\n",
        "    [\"logit\",calculate_F1_Diff_AnE(\n",
        "    eec_data_american.EmotionTarget,\n",
        "    eec_data_american.eec_pred_logit,\n",
        "    eec_data_european.EmotionTarget,\n",
        "    eec_data_european.eec_pred_logit,\n",
        "    4), calculate_F1_Diff_AnE(\n",
        "    eec_data_american.EmotionTarget,\n",
        "    eec_data_american.eec_pred_logit,\n",
        "    eec_data_european.EmotionTarget,\n",
        "    eec_data_european.eec_pred_logit,\n",
        "    0) ]\n",
        "]\n",
        "print(tabulate(EEC_Diff_Table_Race, headers='firstrow', tablefmt='fancy_grid'))\n"
      ]
    },
    {
      "cell_type": "code",
      "execution_count": null,
      "metadata": {},
      "outputs": [
        {
          "name": "stdout",
          "output_type": "stream",
          "text": [
            "emotion Male Female\n",
            "anger 0.7889273356401384 0.7840185292414591\n",
            "sadness 0.8912354804646251 0.8894764674775252\n",
            "fear 0.7868284228769498 0.7889273356401384\n",
            "joy 0.9329268292682927 0.9404641775983854\n"
          ]
        }
      ],
      "source": [
        "\n",
        "emotions =eec_data[\"Emotion\"].unique()\n",
        "print(\"emotion\", \"Male\", \"Female\")\n",
        "for emotion in emotions:\n",
        "    m = eec_data.loc[(eec_data[\"Emotion\"] == emotion) & (eec_data[\"Gender\"] == 'male')]\n",
        "    f = eec_data.loc[(eec_data[\"Emotion\"] == emotion) & (eec_data[\"Gender\"] == 'female')]\n",
        "    if emotion != 'joy':\n",
        "        print(emotion, f1_score(m[\"EmotionTarget\"],m[\"eec_pred_svc\"],pos_label=0), f1_score(f[\"EmotionTarget\"],f[\"eec_pred_svc\"],pos_label=0))\n",
        "    else:\n",
        "        print(emotion, f1_score(m[\"EmotionTarget\"],m[\"eec_pred_svc\"],pos_label=4), f1_score(f[\"EmotionTarget\"],f[\"eec_pred_svc\"],pos_label=4))"
      ]
    },
    {
      "cell_type": "code",
      "execution_count": null,
      "metadata": {},
      "outputs": [
        {
          "name": "stdout",
          "output_type": "stream",
          "text": [
            "emotion A E\n",
            "anger 0.8245172124265322 0.7533392698130009\n",
            "sadness 0.896769109535067 0.8791032826261008\n",
            "fear 0.8155668358714044 0.7621573828470382\n",
            "joy 0.9441930618401206 0.9505247376311844\n"
          ]
        }
      ],
      "source": [
        "\n",
        "emotions =eec_data[\"Emotion\"].unique()\n",
        "print(\"emotion\", \"A\", \"E\")\n",
        "for emotion in emotions:\n",
        "    A = eec_data.loc[(eec_data[\"Emotion\"] == emotion) & (eec_data[\"Race\"] == 'African-American')]\n",
        "    E = eec_data.loc[(eec_data[\"Emotion\"] == emotion) & (eec_data[\"Race\"] == 'European')]\n",
        "    if emotion != 'joy':\n",
        "        print(emotion, f1_score(A[\"EmotionTarget\"],A[\"eec_pred_svc\"],pos_label=0), f1_score(E[\"EmotionTarget\"],E[\"eec_pred_svc\"],pos_label=0))\n",
        "    else:\n",
        "        print(emotion, f1_score(A[\"EmotionTarget\"],A[\"eec_pred_svc\"],pos_label=4), f1_score(E[\"EmotionTarget\"],E[\"eec_pred_svc\"],pos_label=4))"
      ]
    }
  ],
  "metadata": {
    "colab": {
      "include_colab_link": true,
      "provenance": []
    },
    "kernelspec": {
      "display_name": "Python 3",
      "name": "python3"
    },
    "language_info": {
      "codemirror_mode": {
        "name": "ipython",
        "version": 3
      },
      "file_extension": ".py",
      "mimetype": "text/x-python",
      "name": "python",
      "nbconvert_exporter": "python",
      "pygments_lexer": "ipython3",
      "version": "3.7.12"
    },
    "widgets": {
      "application/vnd.jupyter.widget-state+json": {
        "0ba964d6dbcd40c4835067a81dc73e36": {
          "model_module": "@jupyter-widgets/controls",
          "model_module_version": "1.5.0",
          "model_name": "ProgressStyleModel",
          "state": {
            "_model_module": "@jupyter-widgets/controls",
            "_model_module_version": "1.5.0",
            "_model_name": "ProgressStyleModel",
            "_view_count": null,
            "_view_module": "@jupyter-widgets/base",
            "_view_module_version": "1.2.0",
            "_view_name": "StyleView",
            "bar_color": null,
            "description_width": ""
          }
        },
        "103fe2a4e6ce4741b31502f833065b2b": {
          "model_module": "@jupyter-widgets/controls",
          "model_module_version": "1.5.0",
          "model_name": "HTMLModel",
          "state": {
            "_dom_classes": [],
            "_model_module": "@jupyter-widgets/controls",
            "_model_module_version": "1.5.0",
            "_model_name": "HTMLModel",
            "_view_count": null,
            "_view_module": "@jupyter-widgets/controls",
            "_view_module_version": "1.5.0",
            "_view_name": "HTMLView",
            "description": "",
            "description_tooltip": null,
            "layout": "IPY_MODEL_5a1551ea18224c778e1142d29074590f",
            "placeholder": "​",
            "style": "IPY_MODEL_d108b4681550454f914970a9673341a1",
            "value": " 28557/28557 [00:15&lt;00:00, 1387.05 examples/s]"
          }
        },
        "3f02e1188f4f401b9867218768292b14": {
          "model_module": "@jupyter-widgets/base",
          "model_module_version": "1.2.0",
          "model_name": "LayoutModel",
          "state": {
            "_model_module": "@jupyter-widgets/base",
            "_model_module_version": "1.2.0",
            "_model_name": "LayoutModel",
            "_view_count": null,
            "_view_module": "@jupyter-widgets/base",
            "_view_module_version": "1.2.0",
            "_view_name": "LayoutView",
            "align_content": null,
            "align_items": null,
            "align_self": null,
            "border": null,
            "bottom": null,
            "display": null,
            "flex": null,
            "flex_flow": null,
            "grid_area": null,
            "grid_auto_columns": null,
            "grid_auto_flow": null,
            "grid_auto_rows": null,
            "grid_column": null,
            "grid_gap": null,
            "grid_row": null,
            "grid_template_areas": null,
            "grid_template_columns": null,
            "grid_template_rows": null,
            "height": null,
            "justify_content": null,
            "justify_items": null,
            "left": null,
            "margin": null,
            "max_height": null,
            "max_width": null,
            "min_height": null,
            "min_width": null,
            "object_fit": null,
            "object_position": null,
            "order": null,
            "overflow": null,
            "overflow_x": null,
            "overflow_y": null,
            "padding": null,
            "right": null,
            "top": null,
            "visibility": null,
            "width": null
          }
        },
        "44469399869e42fb898ecd4950149c32": {
          "model_module": "@jupyter-widgets/base",
          "model_module_version": "1.2.0",
          "model_name": "LayoutModel",
          "state": {
            "_model_module": "@jupyter-widgets/base",
            "_model_module_version": "1.2.0",
            "_model_name": "LayoutModel",
            "_view_count": null,
            "_view_module": "@jupyter-widgets/base",
            "_view_module_version": "1.2.0",
            "_view_name": "LayoutView",
            "align_content": null,
            "align_items": null,
            "align_self": null,
            "border": null,
            "bottom": null,
            "display": null,
            "flex": null,
            "flex_flow": null,
            "grid_area": null,
            "grid_auto_columns": null,
            "grid_auto_flow": null,
            "grid_auto_rows": null,
            "grid_column": null,
            "grid_gap": null,
            "grid_row": null,
            "grid_template_areas": null,
            "grid_template_columns": null,
            "grid_template_rows": null,
            "height": null,
            "justify_content": null,
            "justify_items": null,
            "left": null,
            "margin": null,
            "max_height": null,
            "max_width": null,
            "min_height": null,
            "min_width": null,
            "object_fit": null,
            "object_position": null,
            "order": null,
            "overflow": null,
            "overflow_x": null,
            "overflow_y": null,
            "padding": null,
            "right": null,
            "top": null,
            "visibility": "hidden",
            "width": null
          }
        },
        "5013ff3053254da0b2d940c664118336": {
          "model_module": "@jupyter-widgets/base",
          "model_module_version": "1.2.0",
          "model_name": "LayoutModel",
          "state": {
            "_model_module": "@jupyter-widgets/base",
            "_model_module_version": "1.2.0",
            "_model_name": "LayoutModel",
            "_view_count": null,
            "_view_module": "@jupyter-widgets/base",
            "_view_module_version": "1.2.0",
            "_view_name": "LayoutView",
            "align_content": null,
            "align_items": null,
            "align_self": null,
            "border": null,
            "bottom": null,
            "display": null,
            "flex": null,
            "flex_flow": null,
            "grid_area": null,
            "grid_auto_columns": null,
            "grid_auto_flow": null,
            "grid_auto_rows": null,
            "grid_column": null,
            "grid_gap": null,
            "grid_row": null,
            "grid_template_areas": null,
            "grid_template_columns": null,
            "grid_template_rows": null,
            "height": null,
            "justify_content": null,
            "justify_items": null,
            "left": null,
            "margin": null,
            "max_height": null,
            "max_width": null,
            "min_height": null,
            "min_width": null,
            "object_fit": null,
            "object_position": null,
            "order": null,
            "overflow": null,
            "overflow_x": null,
            "overflow_y": null,
            "padding": null,
            "right": null,
            "top": null,
            "visibility": null,
            "width": null
          }
        },
        "5809811edd1546ae9f6579bdff12e1bb": {
          "model_module": "@jupyter-widgets/base",
          "model_module_version": "1.2.0",
          "model_name": "LayoutModel",
          "state": {
            "_model_module": "@jupyter-widgets/base",
            "_model_module_version": "1.2.0",
            "_model_name": "LayoutModel",
            "_view_count": null,
            "_view_module": "@jupyter-widgets/base",
            "_view_module_version": "1.2.0",
            "_view_name": "LayoutView",
            "align_content": null,
            "align_items": null,
            "align_self": null,
            "border": null,
            "bottom": null,
            "display": null,
            "flex": null,
            "flex_flow": null,
            "grid_area": null,
            "grid_auto_columns": null,
            "grid_auto_flow": null,
            "grid_auto_rows": null,
            "grid_column": null,
            "grid_gap": null,
            "grid_row": null,
            "grid_template_areas": null,
            "grid_template_columns": null,
            "grid_template_rows": null,
            "height": null,
            "justify_content": null,
            "justify_items": null,
            "left": null,
            "margin": null,
            "max_height": null,
            "max_width": null,
            "min_height": null,
            "min_width": null,
            "object_fit": null,
            "object_position": null,
            "order": null,
            "overflow": null,
            "overflow_x": null,
            "overflow_y": null,
            "padding": null,
            "right": null,
            "top": null,
            "visibility": null,
            "width": null
          }
        },
        "5a1551ea18224c778e1142d29074590f": {
          "model_module": "@jupyter-widgets/base",
          "model_module_version": "1.2.0",
          "model_name": "LayoutModel",
          "state": {
            "_model_module": "@jupyter-widgets/base",
            "_model_module_version": "1.2.0",
            "_model_name": "LayoutModel",
            "_view_count": null,
            "_view_module": "@jupyter-widgets/base",
            "_view_module_version": "1.2.0",
            "_view_name": "LayoutView",
            "align_content": null,
            "align_items": null,
            "align_self": null,
            "border": null,
            "bottom": null,
            "display": null,
            "flex": null,
            "flex_flow": null,
            "grid_area": null,
            "grid_auto_columns": null,
            "grid_auto_flow": null,
            "grid_auto_rows": null,
            "grid_column": null,
            "grid_gap": null,
            "grid_row": null,
            "grid_template_areas": null,
            "grid_template_columns": null,
            "grid_template_rows": null,
            "height": null,
            "justify_content": null,
            "justify_items": null,
            "left": null,
            "margin": null,
            "max_height": null,
            "max_width": null,
            "min_height": null,
            "min_width": null,
            "object_fit": null,
            "object_position": null,
            "order": null,
            "overflow": null,
            "overflow_x": null,
            "overflow_y": null,
            "padding": null,
            "right": null,
            "top": null,
            "visibility": null,
            "width": null
          }
        },
        "63352e32349041ac921241c4c97f730d": {
          "model_module": "@jupyter-widgets/controls",
          "model_module_version": "1.5.0",
          "model_name": "HTMLModel",
          "state": {
            "_dom_classes": [],
            "_model_module": "@jupyter-widgets/controls",
            "_model_module_version": "1.5.0",
            "_model_name": "HTMLModel",
            "_view_count": null,
            "_view_module": "@jupyter-widgets/controls",
            "_view_module_version": "1.5.0",
            "_view_name": "HTMLView",
            "description": "",
            "description_tooltip": null,
            "layout": "IPY_MODEL_3f02e1188f4f401b9867218768292b14",
            "placeholder": "​",
            "style": "IPY_MODEL_8de26de32b8c4c88a1587b8a2e969314",
            "value": "Map: 100%"
          }
        },
        "83b0717ec0c640c5ab1583624414f22a": {
          "model_module": "@jupyter-widgets/controls",
          "model_module_version": "1.5.0",
          "model_name": "FloatProgressModel",
          "state": {
            "_dom_classes": [],
            "_model_module": "@jupyter-widgets/controls",
            "_model_module_version": "1.5.0",
            "_model_name": "FloatProgressModel",
            "_view_count": null,
            "_view_module": "@jupyter-widgets/controls",
            "_view_module_version": "1.5.0",
            "_view_name": "ProgressView",
            "bar_style": "",
            "description": "",
            "description_tooltip": null,
            "layout": "IPY_MODEL_cddcf318064048959f4385b1615a0b07",
            "max": 28557,
            "min": 0,
            "orientation": "horizontal",
            "style": "IPY_MODEL_0ba964d6dbcd40c4835067a81dc73e36",
            "value": 28557
          }
        },
        "8502fe814e18400d9bb8af914126b50e": {
          "model_module": "@jupyter-widgets/base",
          "model_module_version": "1.2.0",
          "model_name": "LayoutModel",
          "state": {
            "_model_module": "@jupyter-widgets/base",
            "_model_module_version": "1.2.0",
            "_model_name": "LayoutModel",
            "_view_count": null,
            "_view_module": "@jupyter-widgets/base",
            "_view_module_version": "1.2.0",
            "_view_name": "LayoutView",
            "align_content": null,
            "align_items": null,
            "align_self": null,
            "border": null,
            "bottom": null,
            "display": null,
            "flex": null,
            "flex_flow": null,
            "grid_area": null,
            "grid_auto_columns": null,
            "grid_auto_flow": null,
            "grid_auto_rows": null,
            "grid_column": null,
            "grid_gap": null,
            "grid_row": null,
            "grid_template_areas": null,
            "grid_template_columns": null,
            "grid_template_rows": null,
            "height": null,
            "justify_content": null,
            "justify_items": null,
            "left": null,
            "margin": null,
            "max_height": null,
            "max_width": null,
            "min_height": null,
            "min_width": null,
            "object_fit": null,
            "object_position": null,
            "order": null,
            "overflow": null,
            "overflow_x": null,
            "overflow_y": null,
            "padding": null,
            "right": null,
            "top": null,
            "visibility": null,
            "width": null
          }
        },
        "8a82d7cae9c9412f9234de256feed0cd": {
          "model_module": "@jupyter-widgets/controls",
          "model_module_version": "1.5.0",
          "model_name": "HTMLModel",
          "state": {
            "_dom_classes": [],
            "_model_module": "@jupyter-widgets/controls",
            "_model_module_version": "1.5.0",
            "_model_name": "HTMLModel",
            "_view_count": null,
            "_view_module": "@jupyter-widgets/controls",
            "_view_module_version": "1.5.0",
            "_view_name": "HTMLView",
            "description": "",
            "description_tooltip": null,
            "layout": "IPY_MODEL_5013ff3053254da0b2d940c664118336",
            "placeholder": "​",
            "style": "IPY_MODEL_fe60ef9677d84066a68f00f80c109a51",
            "value": " 60000/60000 [00:20&lt;00:00, 3894.95 examples/s]"
          }
        },
        "8bc65701da0b42a5b9a9a0c37c118186": {
          "model_module": "@jupyter-widgets/controls",
          "model_module_version": "1.5.0",
          "model_name": "DescriptionStyleModel",
          "state": {
            "_model_module": "@jupyter-widgets/controls",
            "_model_module_version": "1.5.0",
            "_model_name": "DescriptionStyleModel",
            "_view_count": null,
            "_view_module": "@jupyter-widgets/base",
            "_view_module_version": "1.2.0",
            "_view_name": "StyleView",
            "description_width": ""
          }
        },
        "8de26de32b8c4c88a1587b8a2e969314": {
          "model_module": "@jupyter-widgets/controls",
          "model_module_version": "1.5.0",
          "model_name": "DescriptionStyleModel",
          "state": {
            "_model_module": "@jupyter-widgets/controls",
            "_model_module_version": "1.5.0",
            "_model_name": "DescriptionStyleModel",
            "_view_count": null,
            "_view_module": "@jupyter-widgets/base",
            "_view_module_version": "1.2.0",
            "_view_name": "StyleView",
            "description_width": ""
          }
        },
        "964fb375987f4f429022d8544c746701": {
          "model_module": "@jupyter-widgets/controls",
          "model_module_version": "1.5.0",
          "model_name": "FloatProgressModel",
          "state": {
            "_dom_classes": [],
            "_model_module": "@jupyter-widgets/controls",
            "_model_module_version": "1.5.0",
            "_model_name": "FloatProgressModel",
            "_view_count": null,
            "_view_module": "@jupyter-widgets/controls",
            "_view_module_version": "1.5.0",
            "_view_name": "ProgressView",
            "bar_style": "",
            "description": "",
            "description_tooltip": null,
            "layout": "IPY_MODEL_5809811edd1546ae9f6579bdff12e1bb",
            "max": 60000,
            "min": 0,
            "orientation": "horizontal",
            "style": "IPY_MODEL_eff634cf1cab40e7b2ffd51fb51bc659",
            "value": 60000
          }
        },
        "aa49760fe8294227bc1890934daba83a": {
          "model_module": "@jupyter-widgets/base",
          "model_module_version": "1.2.0",
          "model_name": "LayoutModel",
          "state": {
            "_model_module": "@jupyter-widgets/base",
            "_model_module_version": "1.2.0",
            "_model_name": "LayoutModel",
            "_view_count": null,
            "_view_module": "@jupyter-widgets/base",
            "_view_module_version": "1.2.0",
            "_view_name": "LayoutView",
            "align_content": null,
            "align_items": null,
            "align_self": null,
            "border": null,
            "bottom": null,
            "display": null,
            "flex": null,
            "flex_flow": null,
            "grid_area": null,
            "grid_auto_columns": null,
            "grid_auto_flow": null,
            "grid_auto_rows": null,
            "grid_column": null,
            "grid_gap": null,
            "grid_row": null,
            "grid_template_areas": null,
            "grid_template_columns": null,
            "grid_template_rows": null,
            "height": null,
            "justify_content": null,
            "justify_items": null,
            "left": null,
            "margin": null,
            "max_height": null,
            "max_width": null,
            "min_height": null,
            "min_width": null,
            "object_fit": null,
            "object_position": null,
            "order": null,
            "overflow": null,
            "overflow_x": null,
            "overflow_y": null,
            "padding": null,
            "right": null,
            "top": null,
            "visibility": "hidden",
            "width": null
          }
        },
        "c3a10a7c38b44078ae241e2d661c9c4e": {
          "model_module": "@jupyter-widgets/controls",
          "model_module_version": "1.5.0",
          "model_name": "HTMLModel",
          "state": {
            "_dom_classes": [],
            "_model_module": "@jupyter-widgets/controls",
            "_model_module_version": "1.5.0",
            "_model_name": "HTMLModel",
            "_view_count": null,
            "_view_module": "@jupyter-widgets/controls",
            "_view_module_version": "1.5.0",
            "_view_name": "HTMLView",
            "description": "",
            "description_tooltip": null,
            "layout": "IPY_MODEL_8502fe814e18400d9bb8af914126b50e",
            "placeholder": "​",
            "style": "IPY_MODEL_8bc65701da0b42a5b9a9a0c37c118186",
            "value": "Map: 100%"
          }
        },
        "c3aaee58b5b043c4b19cffb5ee6a7e9d": {
          "model_module": "@jupyter-widgets/controls",
          "model_module_version": "1.5.0",
          "model_name": "HBoxModel",
          "state": {
            "_dom_classes": [],
            "_model_module": "@jupyter-widgets/controls",
            "_model_module_version": "1.5.0",
            "_model_name": "HBoxModel",
            "_view_count": null,
            "_view_module": "@jupyter-widgets/controls",
            "_view_module_version": "1.5.0",
            "_view_name": "HBoxView",
            "box_style": "",
            "children": [
              "IPY_MODEL_63352e32349041ac921241c4c97f730d",
              "IPY_MODEL_964fb375987f4f429022d8544c746701",
              "IPY_MODEL_8a82d7cae9c9412f9234de256feed0cd"
            ],
            "layout": "IPY_MODEL_aa49760fe8294227bc1890934daba83a"
          }
        },
        "cddcf318064048959f4385b1615a0b07": {
          "model_module": "@jupyter-widgets/base",
          "model_module_version": "1.2.0",
          "model_name": "LayoutModel",
          "state": {
            "_model_module": "@jupyter-widgets/base",
            "_model_module_version": "1.2.0",
            "_model_name": "LayoutModel",
            "_view_count": null,
            "_view_module": "@jupyter-widgets/base",
            "_view_module_version": "1.2.0",
            "_view_name": "LayoutView",
            "align_content": null,
            "align_items": null,
            "align_self": null,
            "border": null,
            "bottom": null,
            "display": null,
            "flex": null,
            "flex_flow": null,
            "grid_area": null,
            "grid_auto_columns": null,
            "grid_auto_flow": null,
            "grid_auto_rows": null,
            "grid_column": null,
            "grid_gap": null,
            "grid_row": null,
            "grid_template_areas": null,
            "grid_template_columns": null,
            "grid_template_rows": null,
            "height": null,
            "justify_content": null,
            "justify_items": null,
            "left": null,
            "margin": null,
            "max_height": null,
            "max_width": null,
            "min_height": null,
            "min_width": null,
            "object_fit": null,
            "object_position": null,
            "order": null,
            "overflow": null,
            "overflow_x": null,
            "overflow_y": null,
            "padding": null,
            "right": null,
            "top": null,
            "visibility": null,
            "width": null
          }
        },
        "d108b4681550454f914970a9673341a1": {
          "model_module": "@jupyter-widgets/controls",
          "model_module_version": "1.5.0",
          "model_name": "DescriptionStyleModel",
          "state": {
            "_model_module": "@jupyter-widgets/controls",
            "_model_module_version": "1.5.0",
            "_model_name": "DescriptionStyleModel",
            "_view_count": null,
            "_view_module": "@jupyter-widgets/base",
            "_view_module_version": "1.2.0",
            "_view_name": "StyleView",
            "description_width": ""
          }
        },
        "db2c1a6d03d142899b93c213e4791b0a": {
          "model_module": "@jupyter-widgets/controls",
          "model_module_version": "1.5.0",
          "model_name": "HBoxModel",
          "state": {
            "_dom_classes": [],
            "_model_module": "@jupyter-widgets/controls",
            "_model_module_version": "1.5.0",
            "_model_name": "HBoxModel",
            "_view_count": null,
            "_view_module": "@jupyter-widgets/controls",
            "_view_module_version": "1.5.0",
            "_view_name": "HBoxView",
            "box_style": "",
            "children": [
              "IPY_MODEL_c3a10a7c38b44078ae241e2d661c9c4e",
              "IPY_MODEL_83b0717ec0c640c5ab1583624414f22a",
              "IPY_MODEL_103fe2a4e6ce4741b31502f833065b2b"
            ],
            "layout": "IPY_MODEL_44469399869e42fb898ecd4950149c32"
          }
        },
        "eff634cf1cab40e7b2ffd51fb51bc659": {
          "model_module": "@jupyter-widgets/controls",
          "model_module_version": "1.5.0",
          "model_name": "ProgressStyleModel",
          "state": {
            "_model_module": "@jupyter-widgets/controls",
            "_model_module_version": "1.5.0",
            "_model_name": "ProgressStyleModel",
            "_view_count": null,
            "_view_module": "@jupyter-widgets/base",
            "_view_module_version": "1.2.0",
            "_view_name": "StyleView",
            "bar_color": null,
            "description_width": ""
          }
        },
        "fe60ef9677d84066a68f00f80c109a51": {
          "model_module": "@jupyter-widgets/controls",
          "model_module_version": "1.5.0",
          "model_name": "DescriptionStyleModel",
          "state": {
            "_model_module": "@jupyter-widgets/controls",
            "_model_module_version": "1.5.0",
            "_model_name": "DescriptionStyleModel",
            "_view_count": null,
            "_view_module": "@jupyter-widgets/base",
            "_view_module_version": "1.2.0",
            "_view_name": "StyleView",
            "description_width": ""
          }
        }
      }
    }
  },
  "nbformat": 4,
  "nbformat_minor": 0
}
